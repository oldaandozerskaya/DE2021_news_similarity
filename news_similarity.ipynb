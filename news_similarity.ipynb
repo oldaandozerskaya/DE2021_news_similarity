{
  "nbformat": 4,
  "nbformat_minor": 0,
  "metadata": {
    "accelerator": "GPU",
    "colab": {
      "name": "news_similarity.ipynb",
      "provenance": [],
      "collapsed_sections": [
        "jhQ4qMkgfdGG",
        "SmWhONTefik-",
        "pVqyzSzUjK75",
        "tNqiYmxfmNXS"
      ],
      "toc_visible": true
    },
    "kernelspec": {
      "display_name": "Python 3",
      "name": "python3"
    }
  },
  "cells": [
    {
      "cell_type": "code",
      "metadata": {
        "colab": {
          "base_uri": "https://localhost:8080/"
        },
        "id": "5kZOa08vCmsC",
        "outputId": "92385420-2881-4d2f-9c8a-59c6eebda480"
      },
      "source": [
        "from google.colab import drive\n",
        "drive.mount('/content/drive')"
      ],
      "execution_count": null,
      "outputs": [
        {
          "output_type": "stream",
          "text": [
            "Mounted at /content/drive\n"
          ],
          "name": "stdout"
        }
      ]
    },
    {
      "cell_type": "markdown",
      "metadata": {
        "id": "jhQ4qMkgfdGG"
      },
      "source": [
        "#Подготовительное\n",
        "\n",
        "Загрузка данных из репозитория соревнования, можно не запускать"
      ]
    },
    {
      "cell_type": "code",
      "metadata": {
        "colab": {
          "base_uri": "https://localhost:8080/"
        },
        "id": "qgn6CQohDP3E",
        "outputId": "173ae967-77a5-4fc9-8182-081985dc717d"
      },
      "source": [
        "!git clone https://github.com/IlyaGusev/purano"
      ],
      "execution_count": null,
      "outputs": [
        {
          "output_type": "stream",
          "text": [
            "fatal: destination path 'purano' already exists and is not an empty directory.\n"
          ],
          "name": "stdout"
        }
      ]
    },
    {
      "cell_type": "code",
      "metadata": {
        "colab": {
          "base_uri": "https://localhost:8080/"
        },
        "id": "CxV7F-CqDS_0",
        "outputId": "3afec3a1-6169-4562-b1f9-5b64108538f2"
      },
      "source": [
        "%cd purano"
      ],
      "execution_count": null,
      "outputs": [
        {
          "output_type": "stream",
          "text": [
            "/content/purano\n"
          ],
          "name": "stdout"
        }
      ]
    },
    {
      "cell_type": "code",
      "metadata": {
        "colab": {
          "base_uri": "https://localhost:8080/"
        },
        "id": "AGt1-WM-DVuo",
        "outputId": "fc255a72-afb9-41e5-8ec6-4b32f4479096"
      },
      "source": [
        "!pip install -r requirements.txt"
      ],
      "execution_count": null,
      "outputs": [
        {
          "output_type": "stream",
          "text": [
            "Requirement already satisfied: numpy<1.19.0,>=1.16.0 in /usr/local/lib/python3.7/dist-packages (from -r requirements.txt (line 5)) (1.18.5)\n",
            "Requirement already satisfied: pandas>=0.24.0 in /usr/local/lib/python3.7/dist-packages (from -r requirements.txt (line 6)) (1.1.5)\n",
            "Requirement already satisfied: scikit-learn>=0.21.0 in /usr/local/lib/python3.7/dist-packages (from -r requirements.txt (line 7)) (0.22.2.post1)\n",
            "Requirement already satisfied: hyperopt>=0.2.5 in /usr/local/lib/python3.7/dist-packages (from -r requirements.txt (line 8)) (0.2.5)\n",
            "Requirement already satisfied: neptune-client>=0.4.125 in /usr/local/lib/python3.7/dist-packages (from -r requirements.txt (line 9)) (0.5.3)\n",
            "Requirement already satisfied: torch>=1.5.0 in /usr/local/lib/python3.7/dist-packages (from -r requirements.txt (line 12)) (1.8.0+cu101)\n",
            "Requirement already satisfied: pytorch_lightning>=1.0.5 in /usr/local/lib/python3.7/dist-packages (from -r requirements.txt (line 13)) (1.2.4)\n",
            "Requirement already satisfied: tensorboard>=2.4 in /usr/local/lib/python3.7/dist-packages (from -r requirements.txt (line 14)) (2.4.1)\n",
            "Requirement already satisfied: tensorboardX>=2.1 in /usr/local/lib/python3.7/dist-packages (from -r requirements.txt (line 15)) (2.1)\n",
            "Requirement already satisfied: transformers==3.4.0 in /usr/local/lib/python3.7/dist-packages (from -r requirements.txt (line 16)) (3.4.0)\n",
            "Requirement already satisfied: python-dateutil>=2.8.1 in /usr/local/lib/python3.7/dist-packages (from -r requirements.txt (line 19)) (2.8.1)\n",
            "Requirement already satisfied: jsonnet>=0.10.0 in /usr/local/lib/python3.7/dist-packages (from -r requirements.txt (line 20)) (0.17.0)\n",
            "Requirement already satisfied: sqlalchemy>=1.2.0 in /usr/local/lib/python3.7/dist-packages (from -r requirements.txt (line 21)) (1.3.23)\n",
            "Requirement already satisfied: protobuf>=3.10.0 in /usr/local/lib/python3.7/dist-packages (from -r requirements.txt (line 22)) (3.12.4)\n",
            "Requirement already satisfied: flask>=1.1.1 in /usr/local/lib/python3.7/dist-packages (from -r requirements.txt (line 23)) (1.1.2)\n",
            "Requirement already satisfied: flask-sqlalchemy>=2.4.4 in /usr/local/lib/python3.7/dist-packages (from -r requirements.txt (line 24)) (2.5.1)\n",
            "Requirement already satisfied: nltk>=3.2.5 in /usr/local/lib/python3.7/dist-packages (from -r requirements.txt (line 27)) (3.2.5)\n",
            "Requirement already satisfied: pyonmttok>=1.22.1 in /usr/local/lib/python3.7/dist-packages (from -r requirements.txt (line 28)) (1.25.0)\n",
            "Requirement already satisfied: fasttext>=0.9.1 in /usr/local/lib/python3.7/dist-packages (from -r requirements.txt (line 29)) (0.9.2)\n",
            "Requirement already satisfied: slovnet==0.4.0 in /usr/local/lib/python3.7/dist-packages (from -r requirements.txt (line 30)) (0.4.0)\n",
            "Requirement already satisfied: pymorphy2[fast]==0.9.1 in /usr/local/lib/python3.7/dist-packages (from -r requirements.txt (line 31)) (0.9.1)\n",
            "Requirement already satisfied: jupyter>=1.0.0 in /usr/local/lib/python3.7/dist-packages (from -r requirements.txt (line 34)) (1.0.0)\n",
            "Requirement already satisfied: ipymarkup>=0.5.0 in /usr/local/lib/python3.7/dist-packages (from -r requirements.txt (line 35)) (0.9.0)\n",
            "Requirement already satisfied: pyinstrument==3.2.0 in /usr/local/lib/python3.7/dist-packages (from -r requirements.txt (line 38)) (3.2.0)\n",
            "Requirement already satisfied: hnswlib==0.4.0 in /usr/local/lib/python3.7/dist-packages (from -r requirements.txt (line 39)) (0.4.0)\n",
            "Requirement already satisfied: pytz>=2017.2 in /usr/local/lib/python3.7/dist-packages (from pandas>=0.24.0->-r requirements.txt (line 6)) (2018.9)\n",
            "Requirement already satisfied: joblib>=0.11 in /usr/local/lib/python3.7/dist-packages (from scikit-learn>=0.21.0->-r requirements.txt (line 7)) (1.0.1)\n",
            "Requirement already satisfied: scipy>=0.17.0 in /usr/local/lib/python3.7/dist-packages (from scikit-learn>=0.21.0->-r requirements.txt (line 7)) (1.4.1)\n",
            "Requirement already satisfied: networkx>=2.2 in /usr/local/lib/python3.7/dist-packages (from hyperopt>=0.2.5->-r requirements.txt (line 8)) (2.5)\n",
            "Requirement already satisfied: future in /usr/local/lib/python3.7/dist-packages (from hyperopt>=0.2.5->-r requirements.txt (line 8)) (0.16.0)\n",
            "Requirement already satisfied: tqdm in /usr/local/lib/python3.7/dist-packages (from hyperopt>=0.2.5->-r requirements.txt (line 8)) (4.41.1)\n",
            "Requirement already satisfied: six in /usr/local/lib/python3.7/dist-packages (from hyperopt>=0.2.5->-r requirements.txt (line 8)) (1.15.0)\n",
            "Requirement already satisfied: cloudpickle in /usr/local/lib/python3.7/dist-packages (from hyperopt>=0.2.5->-r requirements.txt (line 8)) (1.3.0)\n",
            "Requirement already satisfied: bravado in /usr/local/lib/python3.7/dist-packages (from neptune-client>=0.4.125->-r requirements.txt (line 9)) (11.0.3)\n",
            "Requirement already satisfied: Pillow>=1.1.6 in /usr/local/lib/python3.7/dist-packages (from neptune-client>=0.4.125->-r requirements.txt (line 9)) (7.0.0)\n",
            "Requirement already satisfied: urllib3 in /usr/local/lib/python3.7/dist-packages (from neptune-client>=0.4.125->-r requirements.txt (line 9)) (1.24.3)\n",
            "Requirement already satisfied: packaging in /usr/local/lib/python3.7/dist-packages (from neptune-client>=0.4.125->-r requirements.txt (line 9)) (20.9)\n",
            "Requirement already satisfied: requests-oauthlib>=1.0.0 in /usr/local/lib/python3.7/dist-packages (from neptune-client>=0.4.125->-r requirements.txt (line 9)) (1.3.0)\n",
            "Requirement already satisfied: GitPython>=2.0.8 in /usr/local/lib/python3.7/dist-packages (from neptune-client>=0.4.125->-r requirements.txt (line 9)) (3.1.14)\n",
            "Requirement already satisfied: oauthlib>=2.1.0 in /usr/local/lib/python3.7/dist-packages (from neptune-client>=0.4.125->-r requirements.txt (line 9)) (3.1.0)\n",
            "Requirement already satisfied: websocket-client>=0.35.0 in /usr/local/lib/python3.7/dist-packages (from neptune-client>=0.4.125->-r requirements.txt (line 9)) (0.58.0)\n",
            "Requirement already satisfied: requests>=2.20.0 in /usr/local/lib/python3.7/dist-packages (from neptune-client>=0.4.125->-r requirements.txt (line 9)) (2.23.0)\n",
            "Requirement already satisfied: dataclasses==0.6 in /usr/local/lib/python3.7/dist-packages (from neptune-client>=0.4.125->-r requirements.txt (line 9)) (0.6)\n",
            "Requirement already satisfied: click>=7.0 in /usr/local/lib/python3.7/dist-packages (from neptune-client>=0.4.125->-r requirements.txt (line 9)) (7.1.2)\n",
            "Requirement already satisfied: PyJWT in /usr/local/lib/python3.7/dist-packages (from neptune-client>=0.4.125->-r requirements.txt (line 9)) (2.0.1)\n",
            "Requirement already satisfied: typing-extensions in /usr/local/lib/python3.7/dist-packages (from torch>=1.5.0->-r requirements.txt (line 12)) (3.7.4.3)\n",
            "Requirement already satisfied: PyYAML!=5.4.*,>=5.1 in /usr/local/lib/python3.7/dist-packages (from pytorch_lightning>=1.0.5->-r requirements.txt (line 13)) (5.3.1)\n",
            "Requirement already satisfied: fsspec[http]>=0.8.1 in /usr/local/lib/python3.7/dist-packages (from pytorch_lightning>=1.0.5->-r requirements.txt (line 13)) (0.8.7)\n",
            "Requirement already satisfied: werkzeug>=0.11.15 in /usr/local/lib/python3.7/dist-packages (from tensorboard>=2.4->-r requirements.txt (line 14)) (1.0.1)\n",
            "Requirement already satisfied: absl-py>=0.4 in /usr/local/lib/python3.7/dist-packages (from tensorboard>=2.4->-r requirements.txt (line 14)) (0.10.0)\n",
            "Requirement already satisfied: google-auth<2,>=1.6.3 in /usr/local/lib/python3.7/dist-packages (from tensorboard>=2.4->-r requirements.txt (line 14)) (1.27.1)\n",
            "Requirement already satisfied: grpcio>=1.24.3 in /usr/local/lib/python3.7/dist-packages (from tensorboard>=2.4->-r requirements.txt (line 14)) (1.32.0)\n",
            "Requirement already satisfied: wheel>=0.26; python_version >= \"3\" in /usr/local/lib/python3.7/dist-packages (from tensorboard>=2.4->-r requirements.txt (line 14)) (0.36.2)\n",
            "Requirement already satisfied: setuptools>=41.0.0 in /usr/local/lib/python3.7/dist-packages (from tensorboard>=2.4->-r requirements.txt (line 14)) (54.1.2)\n",
            "Requirement already satisfied: markdown>=2.6.8 in /usr/local/lib/python3.7/dist-packages (from tensorboard>=2.4->-r requirements.txt (line 14)) (3.3.4)\n",
            "Requirement already satisfied: tensorboard-plugin-wit>=1.6.0 in /usr/local/lib/python3.7/dist-packages (from tensorboard>=2.4->-r requirements.txt (line 14)) (1.8.0)\n",
            "Requirement already satisfied: google-auth-oauthlib<0.5,>=0.4.1 in /usr/local/lib/python3.7/dist-packages (from tensorboard>=2.4->-r requirements.txt (line 14)) (0.4.3)\n",
            "Requirement already satisfied: sentencepiece!=0.1.92 in /usr/local/lib/python3.7/dist-packages (from transformers==3.4.0->-r requirements.txt (line 16)) (0.1.95)\n",
            "Requirement already satisfied: tokenizers==0.9.2 in /usr/local/lib/python3.7/dist-packages (from transformers==3.4.0->-r requirements.txt (line 16)) (0.9.2)\n",
            "Requirement already satisfied: sacremoses in /usr/local/lib/python3.7/dist-packages (from transformers==3.4.0->-r requirements.txt (line 16)) (0.0.43)\n",
            "Requirement already satisfied: regex!=2019.12.17 in /usr/local/lib/python3.7/dist-packages (from transformers==3.4.0->-r requirements.txt (line 16)) (2019.12.20)\n",
            "Requirement already satisfied: filelock in /usr/local/lib/python3.7/dist-packages (from transformers==3.4.0->-r requirements.txt (line 16)) (3.0.12)\n",
            "Requirement already satisfied: Jinja2>=2.10.1 in /usr/local/lib/python3.7/dist-packages (from flask>=1.1.1->-r requirements.txt (line 23)) (2.11.3)\n",
            "Requirement already satisfied: itsdangerous>=0.24 in /usr/local/lib/python3.7/dist-packages (from flask>=1.1.1->-r requirements.txt (line 23)) (1.1.0)\n",
            "Requirement already satisfied: pybind11>=2.2 in /usr/local/lib/python3.7/dist-packages (from fasttext>=0.9.1->-r requirements.txt (line 29)) (2.6.2)\n",
            "Requirement already satisfied: navec in /usr/local/lib/python3.7/dist-packages (from slovnet==0.4.0->-r requirements.txt (line 30)) (0.10.0)\n",
            "Requirement already satisfied: razdel in /usr/local/lib/python3.7/dist-packages (from slovnet==0.4.0->-r requirements.txt (line 30)) (0.5.0)\n",
            "Requirement already satisfied: dawg-python>=0.7.1 in /usr/local/lib/python3.7/dist-packages (from pymorphy2[fast]==0.9.1->-r requirements.txt (line 31)) (0.7.2)\n",
            "Requirement already satisfied: pymorphy2-dicts-ru<3.0,>=2.4 in /usr/local/lib/python3.7/dist-packages (from pymorphy2[fast]==0.9.1->-r requirements.txt (line 31)) (2.4.417127.4579844)\n",
            "Requirement already satisfied: docopt>=0.6 in /usr/local/lib/python3.7/dist-packages (from pymorphy2[fast]==0.9.1->-r requirements.txt (line 31)) (0.6.2)\n",
            "Requirement already satisfied: DAWG>=0.8; extra == \"fast\" in /usr/local/lib/python3.7/dist-packages (from pymorphy2[fast]==0.9.1->-r requirements.txt (line 31)) (0.8.0)\n",
            "Requirement already satisfied: nbconvert in /usr/local/lib/python3.7/dist-packages (from jupyter>=1.0.0->-r requirements.txt (line 34)) (5.6.1)\n",
            "Requirement already satisfied: notebook in /usr/local/lib/python3.7/dist-packages (from jupyter>=1.0.0->-r requirements.txt (line 34)) (5.3.1)\n",
            "Requirement already satisfied: ipykernel in /usr/local/lib/python3.7/dist-packages (from jupyter>=1.0.0->-r requirements.txt (line 34)) (4.10.1)\n",
            "Requirement already satisfied: ipywidgets in /usr/local/lib/python3.7/dist-packages (from jupyter>=1.0.0->-r requirements.txt (line 34)) (7.6.3)\n",
            "Requirement already satisfied: qtconsole in /usr/local/lib/python3.7/dist-packages (from jupyter>=1.0.0->-r requirements.txt (line 34)) (5.0.3)\n",
            "Requirement already satisfied: jupyter-console in /usr/local/lib/python3.7/dist-packages (from jupyter>=1.0.0->-r requirements.txt (line 34)) (5.2.0)\n",
            "Requirement already satisfied: intervaltree>=3 in /usr/local/lib/python3.7/dist-packages (from ipymarkup>=0.5.0->-r requirements.txt (line 35)) (3.1.0)\n",
            "Requirement already satisfied: pyinstrument-cext>=0.2.2 in /usr/local/lib/python3.7/dist-packages (from pyinstrument==3.2.0->-r requirements.txt (line 38)) (0.2.4)\n",
            "Requirement already satisfied: decorator>=4.3.0 in /usr/local/lib/python3.7/dist-packages (from networkx>=2.2->hyperopt>=0.2.5->-r requirements.txt (line 8)) (4.4.2)\n",
            "Requirement already satisfied: monotonic in /usr/local/lib/python3.7/dist-packages (from bravado->neptune-client>=0.4.125->-r requirements.txt (line 9)) (1.5)\n",
            "Requirement already satisfied: bravado-core>=5.16.1 in /usr/local/lib/python3.7/dist-packages (from bravado->neptune-client>=0.4.125->-r requirements.txt (line 9)) (5.17.0)\n",
            "Requirement already satisfied: msgpack in /usr/local/lib/python3.7/dist-packages (from bravado->neptune-client>=0.4.125->-r requirements.txt (line 9)) (1.0.2)\n",
            "Requirement already satisfied: simplejson in /usr/local/lib/python3.7/dist-packages (from bravado->neptune-client>=0.4.125->-r requirements.txt (line 9)) (3.17.2)\n",
            "Requirement already satisfied: pyparsing>=2.0.2 in /usr/local/lib/python3.7/dist-packages (from packaging->neptune-client>=0.4.125->-r requirements.txt (line 9)) (2.4.7)\n",
            "Requirement already satisfied: gitdb<5,>=4.0.1 in /usr/local/lib/python3.7/dist-packages (from GitPython>=2.0.8->neptune-client>=0.4.125->-r requirements.txt (line 9)) (4.0.5)\n",
            "Requirement already satisfied: certifi>=2017.4.17 in /usr/local/lib/python3.7/dist-packages (from requests>=2.20.0->neptune-client>=0.4.125->-r requirements.txt (line 9)) (2020.12.5)\n",
            "Requirement already satisfied: chardet<4,>=3.0.2 in /usr/local/lib/python3.7/dist-packages (from requests>=2.20.0->neptune-client>=0.4.125->-r requirements.txt (line 9)) (3.0.4)\n",
            "Requirement already satisfied: idna<3,>=2.5 in /usr/local/lib/python3.7/dist-packages (from requests>=2.20.0->neptune-client>=0.4.125->-r requirements.txt (line 9)) (2.10)\n",
            "Requirement already satisfied: importlib-metadata; python_version < \"3.8\" in /usr/local/lib/python3.7/dist-packages (from fsspec[http]>=0.8.1->pytorch_lightning>=1.0.5->-r requirements.txt (line 13)) (3.7.2)\n",
            "Requirement already satisfied: aiohttp; extra == \"http\" in /usr/local/lib/python3.7/dist-packages (from fsspec[http]>=0.8.1->pytorch_lightning>=1.0.5->-r requirements.txt (line 13)) (3.7.4.post0)\n",
            "Requirement already satisfied: cachetools<5.0,>=2.0.0 in /usr/local/lib/python3.7/dist-packages (from google-auth<2,>=1.6.3->tensorboard>=2.4->-r requirements.txt (line 14)) (4.2.1)\n",
            "Requirement already satisfied: rsa<5,>=3.1.4; python_version >= \"3.6\" in /usr/local/lib/python3.7/dist-packages (from google-auth<2,>=1.6.3->tensorboard>=2.4->-r requirements.txt (line 14)) (4.7.2)\n",
            "Requirement already satisfied: pyasn1-modules>=0.2.1 in /usr/local/lib/python3.7/dist-packages (from google-auth<2,>=1.6.3->tensorboard>=2.4->-r requirements.txt (line 14)) (0.2.8)\n",
            "Requirement already satisfied: MarkupSafe>=0.23 in /usr/local/lib/python3.7/dist-packages (from Jinja2>=2.10.1->flask>=1.1.1->-r requirements.txt (line 23)) (1.1.1)\n",
            "Requirement already satisfied: jupyter-core in /usr/local/lib/python3.7/dist-packages (from nbconvert->jupyter>=1.0.0->-r requirements.txt (line 34)) (4.7.1)\n",
            "Requirement already satisfied: pygments in /usr/local/lib/python3.7/dist-packages (from nbconvert->jupyter>=1.0.0->-r requirements.txt (line 34)) (2.6.1)\n",
            "Requirement already satisfied: traitlets>=4.2 in /usr/local/lib/python3.7/dist-packages (from nbconvert->jupyter>=1.0.0->-r requirements.txt (line 34)) (5.0.5)\n",
            "Requirement already satisfied: entrypoints>=0.2.2 in /usr/local/lib/python3.7/dist-packages (from nbconvert->jupyter>=1.0.0->-r requirements.txt (line 34)) (0.3)\n",
            "Requirement already satisfied: bleach in /usr/local/lib/python3.7/dist-packages (from nbconvert->jupyter>=1.0.0->-r requirements.txt (line 34)) (3.3.0)\n",
            "Requirement already satisfied: testpath in /usr/local/lib/python3.7/dist-packages (from nbconvert->jupyter>=1.0.0->-r requirements.txt (line 34)) (0.4.4)\n",
            "Requirement already satisfied: nbformat>=4.4 in /usr/local/lib/python3.7/dist-packages (from nbconvert->jupyter>=1.0.0->-r requirements.txt (line 34)) (5.1.2)\n",
            "Requirement already satisfied: mistune<2,>=0.8.1 in /usr/local/lib/python3.7/dist-packages (from nbconvert->jupyter>=1.0.0->-r requirements.txt (line 34)) (0.8.4)\n",
            "Requirement already satisfied: defusedxml in /usr/local/lib/python3.7/dist-packages (from nbconvert->jupyter>=1.0.0->-r requirements.txt (line 34)) (0.7.1)\n",
            "Requirement already satisfied: pandocfilters>=1.4.1 in /usr/local/lib/python3.7/dist-packages (from nbconvert->jupyter>=1.0.0->-r requirements.txt (line 34)) (1.4.3)\n",
            "Requirement already satisfied: jupyter-client>=5.2.0 in /usr/local/lib/python3.7/dist-packages (from notebook->jupyter>=1.0.0->-r requirements.txt (line 34)) (5.3.5)\n",
            "Requirement already satisfied: Send2Trash in /usr/local/lib/python3.7/dist-packages (from notebook->jupyter>=1.0.0->-r requirements.txt (line 34)) (1.5.0)\n",
            "Requirement already satisfied: ipython-genutils in /usr/local/lib/python3.7/dist-packages (from notebook->jupyter>=1.0.0->-r requirements.txt (line 34)) (0.2.0)\n",
            "Requirement already satisfied: terminado>=0.8.1 in /usr/local/lib/python3.7/dist-packages (from notebook->jupyter>=1.0.0->-r requirements.txt (line 34)) (0.9.2)\n",
            "Requirement already satisfied: tornado>=4 in /usr/local/lib/python3.7/dist-packages (from notebook->jupyter>=1.0.0->-r requirements.txt (line 34)) (5.1.1)\n",
            "Requirement already satisfied: ipython>=4.0.0 in /usr/local/lib/python3.7/dist-packages (from ipykernel->jupyter>=1.0.0->-r requirements.txt (line 34)) (5.5.0)\n",
            "Requirement already satisfied: widgetsnbextension~=3.5.0 in /usr/local/lib/python3.7/dist-packages (from ipywidgets->jupyter>=1.0.0->-r requirements.txt (line 34)) (3.5.1)\n",
            "Requirement already satisfied: jupyterlab-widgets>=1.0.0; python_version >= \"3.6\" in /usr/local/lib/python3.7/dist-packages (from ipywidgets->jupyter>=1.0.0->-r requirements.txt (line 34)) (1.0.0)\n",
            "Requirement already satisfied: qtpy in /usr/local/lib/python3.7/dist-packages (from qtconsole->jupyter>=1.0.0->-r requirements.txt (line 34)) (1.9.0)\n",
            "Requirement already satisfied: pyzmq>=17.1 in /usr/local/lib/python3.7/dist-packages (from qtconsole->jupyter>=1.0.0->-r requirements.txt (line 34)) (22.0.3)\n",
            "Requirement already satisfied: prompt-toolkit<2.0.0,>=1.0.0 in /usr/local/lib/python3.7/dist-packages (from jupyter-console->jupyter>=1.0.0->-r requirements.txt (line 34)) (1.0.18)\n",
            "Requirement already satisfied: sortedcontainers<3.0,>=2.0 in /usr/local/lib/python3.7/dist-packages (from intervaltree>=3->ipymarkup>=0.5.0->-r requirements.txt (line 35)) (2.3.0)\n",
            "Requirement already satisfied: jsonref in /usr/local/lib/python3.7/dist-packages (from bravado-core>=5.16.1->bravado->neptune-client>=0.4.125->-r requirements.txt (line 9)) (0.2)\n",
            "Requirement already satisfied: jsonschema[format]>=2.5.1 in /usr/local/lib/python3.7/dist-packages (from bravado-core>=5.16.1->bravado->neptune-client>=0.4.125->-r requirements.txt (line 9)) (2.6.0)\n",
            "Requirement already satisfied: swagger-spec-validator>=2.0.1 in /usr/local/lib/python3.7/dist-packages (from bravado-core>=5.16.1->bravado->neptune-client>=0.4.125->-r requirements.txt (line 9)) (2.7.3)\n",
            "Requirement already satisfied: smmap<4,>=3.0.1 in /usr/local/lib/python3.7/dist-packages (from gitdb<5,>=4.0.1->GitPython>=2.0.8->neptune-client>=0.4.125->-r requirements.txt (line 9)) (3.0.5)\n",
            "Requirement already satisfied: zipp>=0.5 in /usr/local/lib/python3.7/dist-packages (from importlib-metadata; python_version < \"3.8\"->fsspec[http]>=0.8.1->pytorch_lightning>=1.0.5->-r requirements.txt (line 13)) (3.4.1)\n",
            "Requirement already satisfied: attrs>=17.3.0 in /usr/local/lib/python3.7/dist-packages (from aiohttp; extra == \"http\"->fsspec[http]>=0.8.1->pytorch_lightning>=1.0.5->-r requirements.txt (line 13)) (20.3.0)\n",
            "Requirement already satisfied: yarl<2.0,>=1.0 in /usr/local/lib/python3.7/dist-packages (from aiohttp; extra == \"http\"->fsspec[http]>=0.8.1->pytorch_lightning>=1.0.5->-r requirements.txt (line 13)) (1.6.3)\n",
            "Requirement already satisfied: async-timeout<4.0,>=3.0 in /usr/local/lib/python3.7/dist-packages (from aiohttp; extra == \"http\"->fsspec[http]>=0.8.1->pytorch_lightning>=1.0.5->-r requirements.txt (line 13)) (3.0.1)\n",
            "Requirement already satisfied: multidict<7.0,>=4.5 in /usr/local/lib/python3.7/dist-packages (from aiohttp; extra == \"http\"->fsspec[http]>=0.8.1->pytorch_lightning>=1.0.5->-r requirements.txt (line 13)) (5.1.0)\n",
            "Requirement already satisfied: pyasn1>=0.1.3 in /usr/local/lib/python3.7/dist-packages (from rsa<5,>=3.1.4; python_version >= \"3.6\"->google-auth<2,>=1.6.3->tensorboard>=2.4->-r requirements.txt (line 14)) (0.4.8)\n",
            "Requirement already satisfied: webencodings in /usr/local/lib/python3.7/dist-packages (from bleach->nbconvert->jupyter>=1.0.0->-r requirements.txt (line 34)) (0.5.1)\n",
            "Requirement already satisfied: ptyprocess; os_name != \"nt\" in /usr/local/lib/python3.7/dist-packages (from terminado>=0.8.1->notebook->jupyter>=1.0.0->-r requirements.txt (line 34)) (0.7.0)\n",
            "Requirement already satisfied: simplegeneric>0.8 in /usr/local/lib/python3.7/dist-packages (from ipython>=4.0.0->ipykernel->jupyter>=1.0.0->-r requirements.txt (line 34)) (0.8.1)\n",
            "Requirement already satisfied: pexpect; sys_platform != \"win32\" in /usr/local/lib/python3.7/dist-packages (from ipython>=4.0.0->ipykernel->jupyter>=1.0.0->-r requirements.txt (line 34)) (4.8.0)\n",
            "Requirement already satisfied: pickleshare in /usr/local/lib/python3.7/dist-packages (from ipython>=4.0.0->ipykernel->jupyter>=1.0.0->-r requirements.txt (line 34)) (0.7.5)\n",
            "Requirement already satisfied: wcwidth in /usr/local/lib/python3.7/dist-packages (from prompt-toolkit<2.0.0,>=1.0.0->jupyter-console->jupyter>=1.0.0->-r requirements.txt (line 34)) (0.2.5)\n",
            "Requirement already satisfied: rfc3987; extra == \"format\" in /usr/local/lib/python3.7/dist-packages (from jsonschema[format]>=2.5.1->bravado-core>=5.16.1->bravado->neptune-client>=0.4.125->-r requirements.txt (line 9)) (1.3.8)\n",
            "Requirement already satisfied: webcolors; extra == \"format\" in /usr/local/lib/python3.7/dist-packages (from jsonschema[format]>=2.5.1->bravado-core>=5.16.1->bravado->neptune-client>=0.4.125->-r requirements.txt (line 9)) (1.11.1)\n",
            "Requirement already satisfied: strict-rfc3339; extra == \"format\" in /usr/local/lib/python3.7/dist-packages (from jsonschema[format]>=2.5.1->bravado-core>=5.16.1->bravado->neptune-client>=0.4.125->-r requirements.txt (line 9)) (0.7)\n"
          ],
          "name": "stdout"
        }
      ]
    },
    {
      "cell_type": "code",
      "metadata": {
        "colab": {
          "base_uri": "https://localhost:8080/"
        },
        "id": "UJoSv5gxDYHl",
        "outputId": "63dbc9aa-4dfe-4c8b-e625-a27bc962c549"
      },
      "source": [
        "!mkdir models/lang_detect\n",
        "!mkdir models/cat_detect\n",
        "!wget https://www.dropbox.com/s/hoapmnvqlknmu6v/lang_detect_v10.ftz -O models/lang_detect/lang_detect_v10.ftz\n",
        "!wget https://www.dropbox.com/s/23x35wuet280eh6/ru_cat_v5.ftz -O models/cat_detect/ru_cat_v5.ftz"
      ],
      "execution_count": null,
      "outputs": [
        {
          "output_type": "stream",
          "text": [
            "mkdir: cannot create directory ‘models/lang_detect’: File exists\n",
            "mkdir: cannot create directory ‘models/cat_detect’: File exists\n",
            "--2021-03-23 14:05:06--  https://www.dropbox.com/s/hoapmnvqlknmu6v/lang_detect_v10.ftz\n",
            "Resolving www.dropbox.com (www.dropbox.com)... 162.125.6.18, 2620:100:601c:18::a27d:612\n",
            "Connecting to www.dropbox.com (www.dropbox.com)|162.125.6.18|:443... connected.\n",
            "HTTP request sent, awaiting response... 301 Moved Permanently\n",
            "Location: /s/raw/hoapmnvqlknmu6v/lang_detect_v10.ftz [following]\n",
            "--2021-03-23 14:05:06--  https://www.dropbox.com/s/raw/hoapmnvqlknmu6v/lang_detect_v10.ftz\n",
            "Reusing existing connection to www.dropbox.com:443.\n",
            "HTTP request sent, awaiting response... 302 Found\n",
            "Location: https://uc453ba23cc54704d2690b01c18e.dl.dropboxusercontent.com/cd/0/inline/BLOOqptPrJgKhUqOUB1AuBa2thaa0jtXNZswiYBSeeXMZDq6KHMmZei10T4cn5uhZoOEchI5pEGDN4upGSNrZY_iBpYN8gseTEJS9ovSU1mwo_uS7oTHL7Wu-zXd93cS8f0yERmjD6w_mdAXZvqZwHrl/file# [following]\n",
            "--2021-03-23 14:05:06--  https://uc453ba23cc54704d2690b01c18e.dl.dropboxusercontent.com/cd/0/inline/BLOOqptPrJgKhUqOUB1AuBa2thaa0jtXNZswiYBSeeXMZDq6KHMmZei10T4cn5uhZoOEchI5pEGDN4upGSNrZY_iBpYN8gseTEJS9ovSU1mwo_uS7oTHL7Wu-zXd93cS8f0yERmjD6w_mdAXZvqZwHrl/file\n",
            "Resolving uc453ba23cc54704d2690b01c18e.dl.dropboxusercontent.com (uc453ba23cc54704d2690b01c18e.dl.dropboxusercontent.com)... 162.125.80.15, 2620:100:601c:15::a27d:60f\n",
            "Connecting to uc453ba23cc54704d2690b01c18e.dl.dropboxusercontent.com (uc453ba23cc54704d2690b01c18e.dl.dropboxusercontent.com)|162.125.80.15|:443... connected.\n",
            "HTTP request sent, awaiting response... 302 Found\n",
            "Location: /cd/0/inline2/BLMB90G8DyS303baeYZWzLOuOlnVtuO_61QghkdpWvnpk70spgk4KP8-z8lAZTy_GpaR9JphaZ4eFd8KPOxPCoXbyFyNSpbWrVu2Oj-N8eipe-fRkMtdV7lzmrs60d1HybBadENwggkgttsCAHYm6AzJHF_HWEuqdZyMdSaZp0iJ0jLl-O-KprbKw7ZskM3lEJB6pSpX5F7IXkvFIJ_5cgsukcX_3pp0YRUDpfhUd8oudLpfKO3VixhdF4pPf_bkNSWJc44sI4QoYgbeteiJt4R6qZfcyTIpurkafXHmwsYZpz2QYoSt7j0sItjR2XRjSLj9Dw-asYJjbQRV3-qYFpZaR616ARD6dZLUNwCzCx7F1KR9lE95V59aA2U4naiZYUc/file [following]\n",
            "--2021-03-23 14:05:07--  https://uc453ba23cc54704d2690b01c18e.dl.dropboxusercontent.com/cd/0/inline2/BLMB90G8DyS303baeYZWzLOuOlnVtuO_61QghkdpWvnpk70spgk4KP8-z8lAZTy_GpaR9JphaZ4eFd8KPOxPCoXbyFyNSpbWrVu2Oj-N8eipe-fRkMtdV7lzmrs60d1HybBadENwggkgttsCAHYm6AzJHF_HWEuqdZyMdSaZp0iJ0jLl-O-KprbKw7ZskM3lEJB6pSpX5F7IXkvFIJ_5cgsukcX_3pp0YRUDpfhUd8oudLpfKO3VixhdF4pPf_bkNSWJc44sI4QoYgbeteiJt4R6qZfcyTIpurkafXHmwsYZpz2QYoSt7j0sItjR2XRjSLj9Dw-asYJjbQRV3-qYFpZaR616ARD6dZLUNwCzCx7F1KR9lE95V59aA2U4naiZYUc/file\n",
            "Reusing existing connection to uc453ba23cc54704d2690b01c18e.dl.dropboxusercontent.com:443.\n",
            "HTTP request sent, awaiting response... 200 OK\n",
            "Length: 1267083 (1.2M) [application/octet-stream]\n",
            "Saving to: ‘models/lang_detect/lang_detect_v10.ftz’\n",
            "\n",
            "models/lang_detect/ 100%[===================>]   1.21M  1.21MB/s    in 1.0s    \n",
            "\n",
            "2021-03-23 14:05:09 (1.21 MB/s) - ‘models/lang_detect/lang_detect_v10.ftz’ saved [1267083/1267083]\n",
            "\n",
            "--2021-03-23 14:05:09--  https://www.dropbox.com/s/23x35wuet280eh6/ru_cat_v5.ftz\n",
            "Resolving www.dropbox.com (www.dropbox.com)... 162.125.6.18, 2620:100:601c:18::a27d:612\n",
            "Connecting to www.dropbox.com (www.dropbox.com)|162.125.6.18|:443... connected.\n",
            "HTTP request sent, awaiting response... 301 Moved Permanently\n",
            "Location: /s/raw/23x35wuet280eh6/ru_cat_v5.ftz [following]\n",
            "--2021-03-23 14:05:09--  https://www.dropbox.com/s/raw/23x35wuet280eh6/ru_cat_v5.ftz\n",
            "Reusing existing connection to www.dropbox.com:443.\n",
            "HTTP request sent, awaiting response... 302 Found\n",
            "Location: https://uc626c5416b76c77a9e4f95dc0da.dl.dropboxusercontent.com/cd/0/inline/BLPrB8oDL7izpcFKNIXcsN96-ChZ3bC8wKjgB5wIv5XuyMrVa_8GB4zjgscDYsNaNfiFhEGdMOpjN8zTsQxQqOQNrQNEiU3FAiyhs4sXansIkTRa9FcxUmgLy5xe2oXiTuMMDutjmIWEg6wzKh4KlkIJ/file# [following]\n",
            "--2021-03-23 14:05:09--  https://uc626c5416b76c77a9e4f95dc0da.dl.dropboxusercontent.com/cd/0/inline/BLPrB8oDL7izpcFKNIXcsN96-ChZ3bC8wKjgB5wIv5XuyMrVa_8GB4zjgscDYsNaNfiFhEGdMOpjN8zTsQxQqOQNrQNEiU3FAiyhs4sXansIkTRa9FcxUmgLy5xe2oXiTuMMDutjmIWEg6wzKh4KlkIJ/file\n",
            "Resolving uc626c5416b76c77a9e4f95dc0da.dl.dropboxusercontent.com (uc626c5416b76c77a9e4f95dc0da.dl.dropboxusercontent.com)... 162.125.6.15, 2620:100:601c:15::a27d:60f\n",
            "Connecting to uc626c5416b76c77a9e4f95dc0da.dl.dropboxusercontent.com (uc626c5416b76c77a9e4f95dc0da.dl.dropboxusercontent.com)|162.125.6.15|:443... connected.\n",
            "HTTP request sent, awaiting response... 302 Found\n",
            "Location: /cd/0/inline2/BLOI8WKvmi0VN-OVdkT7zktru-jgr3Wuv3lTQ_Rg4mDNzMjTUquiF2-8Qp9OApd0BZeGGw08PMd8VRVVvnKnx14CDa_PCOZ62hYTHanK9ImctQDRAbecoROvVxZ-9KsoF-qAiGwfeRhOA_HTKKLBMOZAtDGKarnjlKGphy9J_Xr9iNNXFboO4mUVeCdRRCS_qddz4ePKB8G4LrvrvLw-tOjhZve3uazw4QuTfw73bsHNszvUtMmqHu_7wNpRCO1Hg7Vze8-A56263yj70l9Op8FGgerLLEd1fbQA5eWqtd7wGCeaNI81Z9GmjvfBdAxGaIi7_DykxU4sT6IXqHULIpdSgUmjkvSyYAa6dBPB4Utgy79_ajcPMptO88fuoxFuEy4/file [following]\n",
            "--2021-03-23 14:05:10--  https://uc626c5416b76c77a9e4f95dc0da.dl.dropboxusercontent.com/cd/0/inline2/BLOI8WKvmi0VN-OVdkT7zktru-jgr3Wuv3lTQ_Rg4mDNzMjTUquiF2-8Qp9OApd0BZeGGw08PMd8VRVVvnKnx14CDa_PCOZ62hYTHanK9ImctQDRAbecoROvVxZ-9KsoF-qAiGwfeRhOA_HTKKLBMOZAtDGKarnjlKGphy9J_Xr9iNNXFboO4mUVeCdRRCS_qddz4ePKB8G4LrvrvLw-tOjhZve3uazw4QuTfw73bsHNszvUtMmqHu_7wNpRCO1Hg7Vze8-A56263yj70l9Op8FGgerLLEd1fbQA5eWqtd7wGCeaNI81Z9GmjvfBdAxGaIi7_DykxU4sT6IXqHULIpdSgUmjkvSyYAa6dBPB4Utgy79_ajcPMptO88fuoxFuEy4/file\n",
            "Reusing existing connection to uc626c5416b76c77a9e4f95dc0da.dl.dropboxusercontent.com:443.\n",
            "HTTP request sent, awaiting response... 200 OK\n",
            "Length: 103892031 (99M) [application/octet-stream]\n",
            "Saving to: ‘models/cat_detect/ru_cat_v5.ftz’\n",
            "\n",
            "models/cat_detect/r 100%[===================>]  99.08M   119MB/s    in 0.8s    \n",
            "\n",
            "2021-03-23 14:05:11 (119 MB/s) - ‘models/cat_detect/ru_cat_v5.ftz’ saved [103892031/103892031]\n",
            "\n"
          ],
          "name": "stdout"
        }
      ]
    },
    {
      "cell_type": "code",
      "metadata": {
        "colab": {
          "base_uri": "https://localhost:8080/"
        },
        "id": "ZRBBCpKHC1UG",
        "outputId": "bb3723d8-c137-4d2e-fdf7-86d3cdb7b7ce"
      },
      "source": [
        "# May 25 (training)\n",
        "!rm -rf data\n",
        "!mkdir -p data\n",
        "!cd data && wget https://data-static.usercontent.dev/DataClusteringDataset0525.tar.gz -O - | tar -xz && cd ../\n",
        "# May 27 and 29 (test)\n",
        "!cd data && wget https://data-static.usercontent.dev/DataClusteringDataset0527.tar.gz -O - | tar -xz && cd ../\n",
        "!cd data && wget https://data-static.usercontent.dev/DataClusteringDataset0529.tar.gz -O - | tar -xz && cd ../"
      ],
      "execution_count": null,
      "outputs": [
        {
          "output_type": "stream",
          "text": [
            "--2021-03-23 14:05:17--  https://data-static.usercontent.dev/DataClusteringDataset0525.tar.gz\n",
            "Resolving data-static.usercontent.dev (data-static.usercontent.dev)... 178.128.255.27\n",
            "Connecting to data-static.usercontent.dev (data-static.usercontent.dev)|178.128.255.27|:443... connected.\n",
            "HTTP request sent, awaiting response... 200 OK\n",
            "Length: 145541247 (139M) [application/octet-stream]\n",
            "Saving to: ‘STDOUT’\n",
            "\n",
            "-                   100%[===================>] 138.80M  24.8MB/s    in 6.5s    \n",
            "\n",
            "2021-03-23 14:05:24 (21.5 MB/s) - written to stdout [145541247/145541247]\n",
            "\n",
            "--2021-03-23 14:05:25--  https://data-static.usercontent.dev/DataClusteringDataset0527.tar.gz\n",
            "Resolving data-static.usercontent.dev (data-static.usercontent.dev)... 178.128.255.27\n",
            "Connecting to data-static.usercontent.dev (data-static.usercontent.dev)|178.128.255.27|:443... connected.\n",
            "HTTP request sent, awaiting response... 200 OK\n",
            "Length: 166313405 (159M) [application/octet-stream]\n",
            "Saving to: ‘STDOUT’\n",
            "\n",
            "-                   100%[===================>] 158.61M  23.2MB/s    in 7.5s    \n",
            "\n",
            "2021-03-23 14:05:33 (21.2 MB/s) - written to stdout [166313405/166313405]\n",
            "\n",
            "--2021-03-23 14:05:33--  https://data-static.usercontent.dev/DataClusteringDataset0529.tar.gz\n",
            "Resolving data-static.usercontent.dev (data-static.usercontent.dev)... 178.128.255.27\n",
            "Connecting to data-static.usercontent.dev (data-static.usercontent.dev)|178.128.255.27|:443... connected.\n",
            "HTTP request sent, awaiting response... 200 OK\n",
            "Length: 158025808 (151M) [application/octet-stream]\n",
            "Saving to: ‘STDOUT’\n",
            "\n",
            "-                   100%[===================>] 150.71M  23.1MB/s    in 7.0s    \n",
            "\n",
            "2021-03-23 14:05:40 (21.4 MB/s) - written to stdout [158025808/158025808]\n",
            "\n"
          ],
          "name": "stdout"
        }
      ]
    },
    {
      "cell_type": "code",
      "metadata": {
        "colab": {
          "base_uri": "https://localhost:8080/"
        },
        "id": "IfXeLYApDKmv",
        "outputId": "2f24c624-1fda-402b-be5e-a629e02e1fd5"
      },
      "source": [
        "%%writefile configs/cleaner.jsonnet\n",
        "{\n",
        "    \"lang_detect_model_path\": \"models/lang_detect/lang_detect_v10.ftz\",\n",
        "    \"cat_detect_model_path\": \"models/cat_detect/ru_cat_v5.ftz\",\n",
        "    \"is_lower\": true,\n",
        "    \"is_russian_only\": true,\n",
        "    \"is_news_only\": true\n",
        "}"
      ],
      "execution_count": null,
      "outputs": [
        {
          "output_type": "stream",
          "text": [
            "Overwriting configs/cleaner.jsonnet\n"
          ],
          "name": "stdout"
        }
      ]
    },
    {
      "cell_type": "code",
      "metadata": {
        "colab": {
          "base_uri": "https://localhost:8080/"
        },
        "id": "gfNzjBYIDu8V",
        "outputId": "4a938814-442f-470e-82f9-9f267162a303"
      },
      "source": [
        "!rm -f 0525_parsed.db\n",
        "!python3 -m purano.run_parse --inputs \"data/20200525\" --output-file 0525_parsed.db --fmt html --cleaner-config configs/cleaner.jsonnet\n",
        "!rm -f 0527_parsed.db\n",
        "!python3 -m purano.run_parse --inputs \"data/20200527\" --output-file 0527_parsed.db --fmt html --cleaner-config configs/cleaner.jsonnet\n",
        "!rm -f 0529_parsed.db\n",
        "!python3 -m purano.run_parse --inputs \"data/20200529\" --output-file 0529_parsed.db --fmt html --cleaner-config configs/cleaner.jsonnet"
      ],
      "execution_count": null,
      "outputs": [
        {
          "output_type": "stream",
          "text": [
            "Warning : `load_model` does not return WordVectorModel or SupervisedModel any more, but a `FastText` object which is very similar.\n",
            "Warning : `load_model` does not return WordVectorModel or SupervisedModel any more, but a `FastText` object which is very similar.\n",
            "Parsed 10000 documents\n",
            "Parsed 20000 documents\n",
            "Parsed 30000 documents\n",
            "Parsed 40000 documents\n",
            "Parsed 50000 documents\n",
            "Parsed 60000 documents\n",
            "Parsed 70000 documents\n",
            "Parsed 80000 documents\n",
            "19380 will be saved\n",
            "<class 'pandas.core.frame.DataFrame'>\n",
            "Int64Index: 19380 entries, 3243 to 14993\n",
            "Data columns (total 8 columns):\n",
            " #   Column         Non-Null Count  Dtype                    \n",
            "---  ------         --------------  -----                    \n",
            " 0   url            19380 non-null  object                   \n",
            " 1   host           19380 non-null  object                   \n",
            " 2   title          19380 non-null  object                   \n",
            " 3   text           19380 non-null  object                   \n",
            " 4   date           19380 non-null  datetime64[ns, tzlocal()]\n",
            " 5   patched_title  19380 non-null  object                   \n",
            " 6   patched_text   19380 non-null  object                   \n",
            " 7   category       19380 non-null  object                   \n",
            "dtypes: datetime64[ns, tzlocal()](1), object(7)\n",
            "memory usage: 1.3+ MB\n",
            "None\n",
            "                                                    url  ... category\n",
            "3243  https://vb.by//society/health/koronavirus-zakr...  ...  society\n",
            "3281  https://www.asi.org.ru/news/2020/05/25/biznesm...  ...  society\n",
            "3280         https://www.business-gazeta.ru/news/469681  ...  society\n",
            "3279  https://35media.ru/video/2020/05/25/pozyvnoj-3...  ...  society\n",
            "3278             http://www.c-inform.info/news/id/86100  ...  society\n",
            "\n",
            "[5 rows x 8 columns]\n",
            "Warning : `load_model` does not return WordVectorModel or SupervisedModel any more, but a `FastText` object which is very similar.\n",
            "Warning : `load_model` does not return WordVectorModel or SupervisedModel any more, but a `FastText` object which is very similar.\n",
            "Parsed 10000 documents\n",
            "Parsed 20000 documents\n",
            "Parsed 30000 documents\n",
            "Parsed 40000 documents\n",
            "Parsed 50000 documents\n",
            "Parsed 60000 documents\n",
            "Parsed 70000 documents\n",
            "Parsed 80000 documents\n",
            "Parsed 90000 documents\n",
            "20080 will be saved\n",
            "<class 'pandas.core.frame.DataFrame'>\n",
            "Int64Index: 20080 entries, 3277 to 15608\n",
            "Data columns (total 8 columns):\n",
            " #   Column         Non-Null Count  Dtype                    \n",
            "---  ------         --------------  -----                    \n",
            " 0   url            20080 non-null  object                   \n",
            " 1   host           20080 non-null  object                   \n",
            " 2   title          20080 non-null  object                   \n",
            " 3   text           20080 non-null  object                   \n",
            " 4   date           20080 non-null  datetime64[ns, tzlocal()]\n",
            " 5   patched_title  20080 non-null  object                   \n",
            " 6   patched_text   20080 non-null  object                   \n",
            " 7   category       20080 non-null  object                   \n",
            "dtypes: datetime64[ns, tzlocal()](1), object(7)\n",
            "memory usage: 1.4+ MB\n",
            "None\n",
            "                                                    url  ...       category\n",
            "3277  https://autorating.ru/news/2020-05-27-obnovilo...  ...     technology\n",
            "3070  https://ulpressa.ru/2020/05/27/%d0%bf%d0%be%d0...  ...        society\n",
            "3071  https://football.ua/germany/422614-favr-boruss...  ...         sports\n",
            "3072  https://www.inopressa.ru/article/27May2020/lef...  ...        society\n",
            "3074  https://www.paparazzi.ru/blogs/KatarinaRi/425661/  ...  entertainment\n",
            "\n",
            "[5 rows x 8 columns]\n",
            "Warning : `load_model` does not return WordVectorModel or SupervisedModel any more, but a `FastText` object which is very similar.\n",
            "Warning : `load_model` does not return WordVectorModel or SupervisedModel any more, but a `FastText` object which is very similar.\n",
            "Parsed 10000 documents\n",
            "Parsed 20000 documents\n",
            "Parsed 30000 documents\n",
            "Parsed 40000 documents\n",
            "Parsed 50000 documents\n",
            "Parsed 60000 documents\n",
            "Parsed 70000 documents\n",
            "Parsed 80000 documents\n",
            "Parsed 90000 documents\n",
            "19096 will be saved\n",
            "<class 'pandas.core.frame.DataFrame'>\n",
            "Int64Index: 19096 entries, 3463 to 14774\n",
            "Data columns (total 8 columns):\n",
            " #   Column         Non-Null Count  Dtype                    \n",
            "---  ------         --------------  -----                    \n",
            " 0   url            19096 non-null  object                   \n",
            " 1   host           19096 non-null  object                   \n",
            " 2   title          19096 non-null  object                   \n",
            " 3   text           19096 non-null  object                   \n",
            " 4   date           19096 non-null  datetime64[ns, tzlocal()]\n",
            " 5   patched_title  19096 non-null  object                   \n",
            " 6   patched_text   19096 non-null  object                   \n",
            " 7   category       19096 non-null  object                   \n",
            "dtypes: datetime64[ns, tzlocal()](1), object(7)\n",
            "memory usage: 1.3+ MB\n",
            "None\n",
            "                                                    url  ... category\n",
            "3463             https://pozneronline.ru/2020/05/27750/  ...  society\n",
            "2759       http://variant-v.ru/enews/postelili_volgabas  ...  economy\n",
            "2760  https://vestikavkaza.ru/news/bronirovanie-na-k...  ...  society\n",
            "2761  https://www.mvestnik.ru/newslent/sugroby-po-do...  ...  society\n",
            "2765         https://www.business-gazeta.ru/news/470192  ...  economy\n",
            "\n",
            "[5 rows x 8 columns]\n"
          ],
          "name": "stdout"
        }
      ]
    },
    {
      "cell_type": "code",
      "metadata": {
        "colab": {
          "base_uri": "https://localhost:8080/"
        },
        "id": "p7p5Bk4yDzaz",
        "outputId": "e3d7e793-5557-41ad-ed7b-dc4297815046"
      },
      "source": [
        "from sqlalchemy import create_engine\n",
        "from sqlalchemy.orm import sessionmaker\n",
        "\n",
        "from purano.models import Document\n",
        "\n",
        "def parse_db(file_name):\n",
        "    db_engine = \"sqlite:///{}\".format(file_name)\n",
        "    engine = create_engine(db_engine)\n",
        "    Session = sessionmaker(bind=engine)\n",
        "    session = Session()\n",
        "    query = session.query(Document)\n",
        "    docs = query.all()\n",
        "    records = []\n",
        "    for doc in docs:\n",
        "        records.append({\n",
        "            \"title\": doc.title,\n",
        "            \"text\": doc.text,\n",
        "            \"url\": doc.url,\n",
        "            \"host\": doc.host,\n",
        "            \"timestamp\": doc.date,\n",
        "            \"patched_title\": doc.patched_title,\n",
        "            \"patched_text\": doc.patched_text\n",
        "        })\n",
        "    return records\n",
        "\n",
        "train_records = parse_db(\"0525_parsed.db\")\n",
        "test_0527_records = parse_db(\"0527_parsed.db\")\n",
        "test_0529_records = parse_db(\"0529_parsed.db\")\n",
        "print(len(train_records))\n",
        "print(len(test_0527_records))\n",
        "print(len(test_0529_records))\n",
        "print(train_records[0])"
      ],
      "execution_count": null,
      "outputs": [
        {
          "output_type": "stream",
          "text": [
            "19380\n",
            "20080\n",
            "19096\n",
            "{'title': 'Коронавирус закрыл круглосуточную центральную аптеку Бреста', 'text': 'Сообщение о том, что Брестская центральная районная аптека № 2 (пр. Машерова, 76) временно прекращает обслуживание, появилось 20 мая. И с тех пор ничего не поменялось. Брестчане безуспешно дергают за ручку входной двери. Все закрыто. Генеральный директор Брестского РУП «Фармация» Елена Ломеко пояснила ситуацию журналисту «Вечерки». - Аптека не работает в связи с тем, что ее специалисты были установлены как контакты первого уровня по COVID-19. И для них сейчас введен режим самоизоляции. Аптека будет закрыта до получения очередных результатов исследований. На сегодняшний день трем специалистам больничные закрыли, они вышли на работу. Это работники отдела запасов. Они занимаются сборкой и отправкой товаров по заявкам. Такая работа необходима, учитывая, что центральная районная аптека № 2 обслуживает еще и подчиненные сельские аптеки и ФАПы. Специалисты рецептурно-производственного отдела, к сожалению, пока не могут обслуживать население. Как только выйдет больше фармацевтов, мы аптеку, конечно, откроем... Поверьте, мы сохраняли и сохраняем все меры предосторожности. С первых дней введен масочный режим, дезобработка. В государственной системе аптек сохранилась закрытая выкладка, есть защитные стекла. Но все мы живые люди, куда-то ходим, общаемся. Так что произошло то, что произошло. Подчеркну, что рядом в аптеке на пр. Машерова, 39 (бывшее здание кафе «Бульбяная»), можно забрать ранее заказанные и оплаченные лекарственные средства. К сожалению, временно не работает и банкомат Белинвестбанка, который находится в здании ЦРА № 2. Как написано на бумажке, \"в связи с отсутствием доступа к сервисной части банкомата\" (попросту нельзя зайти в аптеку). Прописаны альтернативные варианты адресов аптек и банкоматов, куда можно пойти. Но для людей, живущих в этой части города, безусловно, создались неудобства. Например, по лекарственным делам в ночное время теперь придется отправиться «за тридевять земель» - на ул. Орловскую или ул. Ленина. ...Все мы теперь находимся в одной лодке. И только выполнение рекомендованных мер предосторожности, профилактики коронавирусной инфекции может помочь не создавать друг другу новые трудности.', 'url': 'https://vb.by//society/health/koronavirus-zakryl-kruglosutochnuyu-centralnuyu.html', 'host': 'vb.by', 'timestamp': datetime.datetime(2020, 5, 25, 0, 0), 'patched_title': 'коронавирус закрыл круглосуточную центральную аптеку бреста', 'patched_text': 'сообщение о том , что брестская центральная районная аптека № 2 ( пр . машерова , 76 ) временно прекращает обслуживание , появилось 20 мая . и с тех пор ничего не поменялось . брестчане безуспешно дергают за ручку входной двери . все закрыто . генеральный директор брестского руп « фармация » елена ломеко пояснила ситуацию журналисту « вечерки » . - аптека не работает в связи с тем , что ее специалисты были установлены как контакты первого уровня по covid-19 . и для них сейчас введен режим самоизоляции . аптека будет закрыта до получения очередных результатов исследований . на сегодняшний день трем специалистам больничные закрыли , они вышли на работу . это работники отдела запасов . они занимаются сборкой и отправкой товаров по заявкам . такая работа необходима , учитывая , что центральная районная аптека № 2 обслуживает еще и подчиненные сельские аптеки и фапы . специалисты рецептурно-производственного отдела , к сожалению , пока не могут обслуживать население . как только выйдет больше фармацевтов , мы аптеку , конечно , откроем . . . поверьте , мы сохраняли и сохраняем все меры предосторожности . с первых дней введен масочный режим , дезобработка . в государственной системе аптек сохранилась закрытая выкладка , есть защитные стекла . но все мы живые люди , куда-то ходим , общаемся . так что произошло то , что произошло . подчеркну , что рядом в аптеке на пр . машерова , 39 ( бывшее здание кафе « бульбяная » ) , можно забрать ранее заказанные и оплаченные лекарственные средства . к сожалению , временно не работает и банкомат белинвестбанка , который находится в здании цра № 2 . как написано на бумажке , \" в связи с отсутствием доступа к сервисной части банкомата \" ( попросту нельзя зайти в аптеку ) . прописаны альтернативные варианты адресов аптек и банкоматов , куда можно пойти . но для людей , живущих в этой части города , безусловно , создались неудобства . например , по лекарственным делам в ночное время теперь придется отправиться « за тридевять земель » - на ул . орловскую или ул . ленина . . . . все мы теперь находимся в одной лодке . и только выполнение рекомендованных мер предосторожности , профилактики коронавирусной инфекции может помочь не создавать друг другу новые трудности .'}\n"
          ],
          "name": "stdout"
        }
      ]
    },
    {
      "cell_type": "code",
      "metadata": {
        "id": "cCeRF4zWD9xk"
      },
      "source": [
        "import pickle\n",
        "\n",
        "with open('/content/drive/MyDrive/rusum/train_records.pickle', 'wb') as f:\n",
        "  pickle.dump(train_records, f)\n",
        "with open('/content/drive/MyDrive/rusum/test_0527_records.pickle', 'wb') as f:\n",
        "  pickle.dump(test_0527_records, f)\n",
        "with open('/content/drive/MyDrive/rusum/test_0529_records.pickle', 'wb') as f:\n",
        "  pickle.dump(test_0529_records, f)"
      ],
      "execution_count": null,
      "outputs": []
    },
    {
      "cell_type": "code",
      "metadata": {
        "colab": {
          "base_uri": "https://localhost:8080/"
        },
        "id": "NpF6Nt2iRBUz",
        "outputId": "436587af-a240-4c56-fd3b-7efce757c9a2"
      },
      "source": [
        "train_records[0]['title']"
      ],
      "execution_count": null,
      "outputs": [
        {
          "output_type": "execute_result",
          "data": {
            "application/vnd.google.colaboratory.intrinsic+json": {
              "type": "string"
            },
            "text/plain": [
              "'Коронавирус закрыл круглосуточную центральную аптеку Бреста'"
            ]
          },
          "metadata": {
            "tags": []
          },
          "execution_count": 11
        }
      ]
    },
    {
      "cell_type": "code",
      "metadata": {
        "colab": {
          "base_uri": "https://localhost:8080/"
        },
        "id": "nvAijHKBROCe",
        "outputId": "7cd3ec96-3f99-4233-e341-18dbc7c22411"
      },
      "source": [
        "train_records[0]['patched_title']"
      ],
      "execution_count": null,
      "outputs": [
        {
          "output_type": "execute_result",
          "data": {
            "application/vnd.google.colaboratory.intrinsic+json": {
              "type": "string"
            },
            "text/plain": [
              "'коронавирус закрыл круглосуточную центральную аптеку бреста'"
            ]
          },
          "metadata": {
            "tags": []
          },
          "execution_count": 12
        }
      ]
    },
    {
      "cell_type": "markdown",
      "metadata": {
        "id": "SmWhONTefik-"
      },
      "source": [
        "\n",
        "#Делаем датасет"
      ]
    },
    {
      "cell_type": "code",
      "metadata": {
        "id": "JGrq8NnnRyK6"
      },
      "source": [
        "import pickle\n",
        "\n",
        "with open('/content/drive/MyDrive/rusum/train_records.pickle', 'rb') as f:\n",
        "  train_records = pickle.load(f)\n",
        "with open('/content/drive/MyDrive/rusum/test_0527_records.pickle', 'rb') as f:\n",
        "  test_0527_records = pickle.load(f)\n",
        "with open('/content/drive/MyDrive/rusum/test_0529_records.pickle', 'rb') as f:\n",
        "  test_0529_records = pickle.load(f)"
      ],
      "execution_count": null,
      "outputs": []
    },
    {
      "cell_type": "code",
      "metadata": {
        "colab": {
          "base_uri": "https://localhost:8080/",
          "height": 171
        },
        "id": "Qjz06_SMgCP9",
        "outputId": "3744c1d8-31e1-4053-b4db-22bafe373f3f"
      },
      "source": [
        "train_records[0]"
      ],
      "execution_count": null,
      "outputs": [
        {
          "output_type": "error",
          "ename": "NameError",
          "evalue": "ignored",
          "traceback": [
            "\u001b[0;31m---------------------------------------------------------------------------\u001b[0m",
            "\u001b[0;31mNameError\u001b[0m                                 Traceback (most recent call last)",
            "\u001b[0;32m<ipython-input-8-d6617a46a4b2>\u001b[0m in \u001b[0;36m<module>\u001b[0;34m()\u001b[0m\n\u001b[0;32m----> 1\u001b[0;31m \u001b[0mtrain_records\u001b[0m\u001b[0;34m[\u001b[0m\u001b[0;36m0\u001b[0m\u001b[0;34m]\u001b[0m\u001b[0;34m\u001b[0m\u001b[0;34m\u001b[0m\u001b[0m\n\u001b[0m",
            "\u001b[0;31mNameError\u001b[0m: name 'train_records' is not defined"
          ]
        }
      ]
    },
    {
      "cell_type": "code",
      "metadata": {
        "id": "rbWlR63ggUSG"
      },
      "source": [
        "import pandas as pd\n",
        "\n",
        "train = pd.read_csv('/content/drive/MyDrive/rusum/ru_clustering_0525_urls.tsv', sep='\\t')\n",
        "test = pd.read_csv('/content/drive/MyDrive/rusum/ru_clustering_test.tsv', sep='\\t')"
      ],
      "execution_count": null,
      "outputs": []
    },
    {
      "cell_type": "code",
      "metadata": {
        "id": "nCSJ6jhT5AM0"
      },
      "source": [
        "test[:3]"
      ],
      "execution_count": null,
      "outputs": []
    },
    {
      "cell_type": "code",
      "metadata": {
        "id": "UCD9XGmfrcJS"
      },
      "source": [
        "train_texts[3]"
      ],
      "execution_count": null,
      "outputs": []
    },
    {
      "cell_type": "code",
      "metadata": {
        "id": "wNmwADocrfzX"
      },
      "source": [
        "train_labels[3]"
      ],
      "execution_count": null,
      "outputs": []
    },
    {
      "cell_type": "code",
      "metadata": {
        "id": "FQs6G21yzyQc"
      },
      "source": [
        "len(train_texts)"
      ],
      "execution_count": null,
      "outputs": []
    },
    {
      "cell_type": "code",
      "metadata": {
        "id": "nCnB_lz7gnw6"
      },
      "source": [
        "train_texts = []\n",
        "train_labels = []\n",
        "\n",
        "def search(url, st):\n",
        "  if st=='train':\n",
        "    for tr in train_records:\n",
        "      if tr['url']==url:\n",
        "        return ' '.join((tr['title']+' '+tr['text']).split()[:200])\n",
        "  else:\n",
        "    for tr in test_0527_records:\n",
        "      if tr['url']==url:\n",
        "        return ' '.join((tr['title']+' '+tr['text']).split()[:200])\n",
        "    for tr in test_0529_records:\n",
        "      if tr['url']==url:\n",
        "        return ' '.join((tr['title']+' '+tr['text']).split()[:200])\n",
        "\n",
        "\n",
        "for line in train.values:\n",
        "  train_texts.append([search(line[0],'train'),search(line[1],'train')])\n",
        "  if line[2]=='OK':\n",
        "    train_labels.append(1)\n",
        "  else:\n",
        "    train_labels.append(0)"
      ],
      "execution_count": null,
      "outputs": []
    },
    {
      "cell_type": "code",
      "metadata": {
        "id": "q9NNknjkiWHe"
      },
      "source": [
        "test_texts = []\n",
        "\n",
        "for line in test.values:\n",
        "  test_texts.append([search(line[1],'test'),search(line[2],'test')])\n",
        "\n",
        "del(train_records)\n",
        "del(test_0527_records)\n",
        "del(test_0529_records)"
      ],
      "execution_count": null,
      "outputs": []
    },
    {
      "cell_type": "code",
      "metadata": {
        "id": "4M9RKGR_eHsF"
      },
      "source": [
        "!pip install num2words"
      ],
      "execution_count": null,
      "outputs": []
    },
    {
      "cell_type": "code",
      "metadata": {
        "id": "knBO20s2e19M"
      },
      "source": [
        "import num2words\n",
        "from num2words import num2words\n",
        "\n",
        "def digit_part(text):\n",
        "  isd = True\n",
        "  for s in text:\n",
        "    if not s.isdigit():\n",
        "      isd = False\n",
        "      break\n",
        "  if isd:\n",
        "    return num2words(text, lang = 'ru')\n",
        "  else:\n",
        "    return text\n",
        "\n",
        "text = 'я люблю 42'\n",
        "text = ' '.join([digit_part(word) for word in text.split()])\n",
        "text"
      ],
      "execution_count": null,
      "outputs": []
    },
    {
      "cell_type": "code",
      "metadata": {
        "id": "ItlFs0t8hXOa"
      },
      "source": [
        "test_texts[9]"
      ],
      "execution_count": null,
      "outputs": []
    },
    {
      "cell_type": "code",
      "metadata": {
        "id": "vxDC5OYIeVZ5"
      },
      "source": [
        "for i in range(len(train_texts)):\n",
        "  train_texts[i][0] = ' '.join([digit_part(word) for word in train_texts[i][0].split()])\n",
        "  train_texts[i][1] = ' '.join([digit_part(word) for word in train_texts[i][1].split()])"
      ],
      "execution_count": null,
      "outputs": []
    },
    {
      "cell_type": "code",
      "metadata": {
        "id": "Igge7sd0lJav"
      },
      "source": [
        "for i in range(len(test_texts)):\n",
        "  try:\n",
        "    test_texts[i][0] = ' '.join([digit_part(word) for word in test_texts[i][0].split()])\n",
        "  except:\n",
        "    print(test_texts[i])\n",
        "  try:\n",
        "    test_texts[i][1] = ' '.join([digit_part(word) for word in test_texts[i][1].split()])\n",
        "  except:\n",
        "    print(test_texts[i])"
      ],
      "execution_count": null,
      "outputs": []
    },
    {
      "cell_type": "markdown",
      "metadata": {
        "id": "pVqyzSzUjK75"
      },
      "source": [
        "#Модель"
      ]
    },
    {
      "cell_type": "code",
      "metadata": {
        "colab": {
          "base_uri": "https://localhost:8080/"
        },
        "id": "X-fXs7Q4jKXE",
        "outputId": "c4750475-e3f8-46d4-efa4-b109c69e6f83"
      },
      "source": [
        "import tensorflow as tf\n",
        "\n",
        "device_name = tf.test.gpu_device_name()\n",
        "if device_name != '/device:GPU:0':\n",
        "  raise SystemError('GPU device not found')\n",
        "print('Found GPU at: {}'.format(device_name))"
      ],
      "execution_count": null,
      "outputs": [
        {
          "output_type": "stream",
          "text": [
            "Found GPU at: /device:GPU:0\n"
          ],
          "name": "stdout"
        }
      ]
    },
    {
      "cell_type": "code",
      "metadata": {
        "colab": {
          "base_uri": "https://localhost:8080/"
        },
        "id": "6K10BFARjJAQ",
        "outputId": "981696ac-3f82-4176-b87f-46e831050f9f"
      },
      "source": [
        "import torch\n",
        "\n",
        "# If there's a GPU available...\n",
        "if torch.cuda.is_available():    \n",
        "\n",
        "    # Tell PyTorch to use the GPU.    \n",
        "    device = torch.device(\"cuda\")\n",
        "\n",
        "    print('There are %d GPU(s) available.' % torch.cuda.device_count())\n",
        "\n",
        "    print('We will use the GPU:', torch.cuda.get_device_name(0))\n",
        "\n",
        "# If not...\n",
        "else:\n",
        "    print('No GPU available, using the CPU instead.')\n",
        "    device = torch.device(\"cpu\")"
      ],
      "execution_count": null,
      "outputs": [
        {
          "output_type": "stream",
          "text": [
            "There are 1 GPU(s) available.\n",
            "We will use the GPU: Tesla T4\n"
          ],
          "name": "stdout"
        }
      ]
    },
    {
      "cell_type": "code",
      "metadata": {
        "colab": {
          "base_uri": "https://localhost:8080/"
        },
        "id": "oeAs9QS2jbVR",
        "outputId": "3904a8df-a584-42a1-c500-b467fc7eed4d"
      },
      "source": [
        "!pip install transformers\n",
        "!pip install pytorch-pretrained-bert pytorch-nlp\n",
        "from transformers import BertModel#, RobertaModel\n",
        "import numpy as np\n",
        "import tensorflow as tf\n",
        "\n",
        "from transformers import *\n",
        "import pandas as pd\n",
        "#import torch\n",
        "from keras.preprocessing.sequence import pad_sequences\n",
        "from sklearn.model_selection import train_test_split\n",
        "import numpy as np\n",
        "import os\n",
        "import pickle"
      ],
      "execution_count": null,
      "outputs": [
        {
          "output_type": "stream",
          "text": [
            "Requirement already satisfied: transformers in /usr/local/lib/python3.7/dist-packages (3.4.0)\n",
            "Requirement already satisfied: numpy in /usr/local/lib/python3.7/dist-packages (from transformers) (1.18.5)\n",
            "Requirement already satisfied: protobuf in /usr/local/lib/python3.7/dist-packages (from transformers) (3.12.4)\n",
            "Requirement already satisfied: regex!=2019.12.17 in /usr/local/lib/python3.7/dist-packages (from transformers) (2019.12.20)\n",
            "Requirement already satisfied: sentencepiece!=0.1.92 in /usr/local/lib/python3.7/dist-packages (from transformers) (0.1.95)\n",
            "Requirement already satisfied: packaging in /usr/local/lib/python3.7/dist-packages (from transformers) (20.9)\n",
            "Requirement already satisfied: tokenizers==0.9.2 in /usr/local/lib/python3.7/dist-packages (from transformers) (0.9.2)\n",
            "Requirement already satisfied: requests in /usr/local/lib/python3.7/dist-packages (from transformers) (2.23.0)\n",
            "Requirement already satisfied: sacremoses in /usr/local/lib/python3.7/dist-packages (from transformers) (0.0.43)\n",
            "Requirement already satisfied: filelock in /usr/local/lib/python3.7/dist-packages (from transformers) (3.0.12)\n",
            "Requirement already satisfied: tqdm>=4.27 in /usr/local/lib/python3.7/dist-packages (from transformers) (4.41.1)\n",
            "Requirement already satisfied: setuptools in /usr/local/lib/python3.7/dist-packages (from protobuf->transformers) (54.1.2)\n",
            "Requirement already satisfied: six>=1.9 in /usr/local/lib/python3.7/dist-packages (from protobuf->transformers) (1.15.0)\n",
            "Requirement already satisfied: pyparsing>=2.0.2 in /usr/local/lib/python3.7/dist-packages (from packaging->transformers) (2.4.7)\n",
            "Requirement already satisfied: certifi>=2017.4.17 in /usr/local/lib/python3.7/dist-packages (from requests->transformers) (2020.12.5)\n",
            "Requirement already satisfied: chardet<4,>=3.0.2 in /usr/local/lib/python3.7/dist-packages (from requests->transformers) (3.0.4)\n",
            "Requirement already satisfied: idna<3,>=2.5 in /usr/local/lib/python3.7/dist-packages (from requests->transformers) (2.10)\n",
            "Requirement already satisfied: urllib3!=1.25.0,!=1.25.1,<1.26,>=1.21.1 in /usr/local/lib/python3.7/dist-packages (from requests->transformers) (1.24.3)\n",
            "Requirement already satisfied: click in /usr/local/lib/python3.7/dist-packages (from sacremoses->transformers) (7.1.2)\n",
            "Requirement already satisfied: joblib in /usr/local/lib/python3.7/dist-packages (from sacremoses->transformers) (1.0.1)\n",
            "Requirement already satisfied: pytorch-pretrained-bert in /usr/local/lib/python3.7/dist-packages (0.6.2)\n",
            "Requirement already satisfied: pytorch-nlp in /usr/local/lib/python3.7/dist-packages (0.5.0)\n",
            "Requirement already satisfied: torch>=0.4.1 in /usr/local/lib/python3.7/dist-packages (from pytorch-pretrained-bert) (1.8.0+cu101)\n",
            "Requirement already satisfied: numpy in /usr/local/lib/python3.7/dist-packages (from pytorch-pretrained-bert) (1.18.5)\n",
            "Requirement already satisfied: boto3 in /usr/local/lib/python3.7/dist-packages (from pytorch-pretrained-bert) (1.17.34)\n",
            "Requirement already satisfied: tqdm in /usr/local/lib/python3.7/dist-packages (from pytorch-pretrained-bert) (4.41.1)\n",
            "Requirement already satisfied: regex in /usr/local/lib/python3.7/dist-packages (from pytorch-pretrained-bert) (2019.12.20)\n",
            "Requirement already satisfied: requests in /usr/local/lib/python3.7/dist-packages (from pytorch-pretrained-bert) (2.23.0)\n",
            "Requirement already satisfied: typing-extensions in /usr/local/lib/python3.7/dist-packages (from torch>=0.4.1->pytorch-pretrained-bert) (3.7.4.3)\n",
            "Requirement already satisfied: jmespath<1.0.0,>=0.7.1 in /usr/local/lib/python3.7/dist-packages (from boto3->pytorch-pretrained-bert) (0.10.0)\n",
            "Requirement already satisfied: s3transfer<0.4.0,>=0.3.0 in /usr/local/lib/python3.7/dist-packages (from boto3->pytorch-pretrained-bert) (0.3.6)\n",
            "Requirement already satisfied: botocore<1.21.0,>=1.20.34 in /usr/local/lib/python3.7/dist-packages (from boto3->pytorch-pretrained-bert) (1.20.34)\n",
            "Requirement already satisfied: urllib3!=1.25.0,!=1.25.1,<1.26,>=1.21.1 in /usr/local/lib/python3.7/dist-packages (from requests->pytorch-pretrained-bert) (1.24.3)\n",
            "Requirement already satisfied: idna<3,>=2.5 in /usr/local/lib/python3.7/dist-packages (from requests->pytorch-pretrained-bert) (2.10)\n",
            "Requirement already satisfied: chardet<4,>=3.0.2 in /usr/local/lib/python3.7/dist-packages (from requests->pytorch-pretrained-bert) (3.0.4)\n",
            "Requirement already satisfied: certifi>=2017.4.17 in /usr/local/lib/python3.7/dist-packages (from requests->pytorch-pretrained-bert) (2020.12.5)\n",
            "Requirement already satisfied: python-dateutil<3.0.0,>=2.1 in /usr/local/lib/python3.7/dist-packages (from botocore<1.21.0,>=1.20.34->boto3->pytorch-pretrained-bert) (2.8.1)\n",
            "Requirement already satisfied: six>=1.5 in /usr/local/lib/python3.7/dist-packages (from python-dateutil<3.0.0,>=2.1->botocore<1.21.0,>=1.20.34->boto3->pytorch-pretrained-bert) (1.15.0)\n"
          ],
          "name": "stdout"
        }
      ]
    },
    {
      "cell_type": "code",
      "metadata": {
        "id": "FQNRtGIkjiyW"
      },
      "source": [
        "model_name = 'DeepPavlov/rubert-base-cased'\n",
        "#model_name = \"dmitry-vorobiev/rubert_ria_headlines\"\n",
        "tokenizer = BertTokenizer.from_pretrained(model_name)"
      ],
      "execution_count": null,
      "outputs": []
    },
    {
      "cell_type": "code",
      "metadata": {
        "colab": {
          "base_uri": "https://localhost:8080/"
        },
        "id": "iYOgnxgikAYi",
        "outputId": "9ef42f38-a42c-4c9b-db60-0ff666751cac"
      },
      "source": [
        "# Tokenize all of the sentences and map the tokens to thier word IDs.\n",
        "input_ids = []\n",
        "attention_masks = []\n",
        "\n",
        "# For every sentence...\n",
        "for i, sent in enumerate(train_texts):\n",
        "    # `encode_plus` will:\n",
        "    #   (1) Tokenize the sentence.\n",
        "    #   (2) Prepend the `[CLS]` token to the start.\n",
        "    #   (3) Append the `[SEP]` token to the end.\n",
        "    #   (4) Map tokens to their IDs.\n",
        "    #   (5) Pad or truncate the sentence to `max_length`\n",
        "    #   (6) Create attention masks for [PAD] tokens.\n",
        "    sent = '[CLS] '+ sent[0] + ' [SEP] ' +sent[1] + ' [SEP]'\n",
        "    encoded_dict = tokenizer.encode_plus(\n",
        "                        sent,                      # Sentence to encode.\n",
        "                        truncation = True,\n",
        "                        add_special_tokens = False, # Add '[CLS]' and '[SEP]'\n",
        "                        max_length = 512,           # Pad & truncate all sentences.\n",
        "                        pad_to_max_length = True,\n",
        "                        return_attention_mask = True,   # Construct attn. masks.\n",
        "                        return_tensors = 'pt',     # Return pytorch tensors.\n",
        "                   )\n",
        "    \n",
        "    # Add the encoded sentence to the list.    \n",
        "    input_ids.append(encoded_dict['input_ids'])\n",
        "    \n",
        "    # And its attention mask (simply differentiates padding from non-padding).\n",
        "    attention_masks.append(encoded_dict['attention_mask'])\n",
        "\n",
        "# Convert the lists into tensors.\n",
        "input_ids = torch.cat(input_ids, dim=0)\n",
        "attention_masks = torch.cat(attention_masks, dim=0)\n",
        "labels = torch.tensor(train_labels)\n",
        "\n",
        "# Print sentence 0, now as a list of IDs.\n",
        "print('Original: ', train_texts[0])\n",
        "print('Token IDs:', input_ids[0])\n",
        "del(train_texts)"
      ],
      "execution_count": null,
      "outputs": [
        {
          "output_type": "stream",
          "text": [
            "/usr/local/lib/python3.7/dist-packages/transformers/tokenization_utils_base.py:1944: FutureWarning: The `pad_to_max_length` argument is deprecated and will be removed in a future version, use `padding=True` or `padding='longest'` to pad to the longest sequence in the batch, or use `padding='max_length'` to pad to a max length. In this case, you can give a specific length with `max_length` (e.g. `max_length=45`) or leave max_length to None to pad to the maximal input size of the model (e.g. 512 for Bert).\n",
            "  FutureWarning,\n"
          ],
          "name": "stderr"
        },
        {
          "output_type": "stream",
          "text": [
            "Original:  ['На мужчину, заразившего коронавирусом двух постояльцев хостела в Москве, завели дело На мужчину, недолечившего коронавирусную инфекцию и заразившего ею двух постояльцев хостела в Москве, завели уголовное дело по части один статьи двести тридцать шесть УК РФ («Нарушение санитарно-эпидемиологических правил, повлекшее по неосторожности массовое заболевание»). Об этом сообщается на сайте генпрокуратуры. «Установлено, что мужчина, заболевший коронавирусной инфекцией, выписан для продолжения лечения в амбулаторных условиях. При выписке он предоставил в больницу недостоверную информацию об адресе проживания и прибыл для проживания в хостел, скрыв от администрации информацию о своем заболевании, вследствие чего возникла угроза заражения COVID-19 других лиц. Кроме того, после выявления данного случая по результатам анализов заболевание диагностировано у двух постояльцев, контактировавших с мужчиной», — передает пресс-служба ведомства. Генеральному директору хостела прокурор объявил предостережение о недопустимости нарушений санитарно-эпидемиологического законодательства и принятии противоэпидемических мер, направленных на недопущение распространения коронавирусной инфекции. Мужчине, заразившему других жильцов, грозит штраф от пятьсот до семьсот тыс. рублей, или в размере заработной платы, или иного его дохода за период от один года до 1,5 лет, либо лишение права занимать определенные должности или заниматься определенной деятельностью на срок от один года до три лет, либо ограничение свободы на срок до два лет, либо принудительные работы на срок до два лет, либо лишение', 'В Москве завели дело на мужчину с COVID-19, который поселился в хостеле, чтобы не заражать домочадцев Следственный комитет в Москве возбудил дело в отношении постояльца хостела в Кузьминках, который заразил там коронавирусом по меньшей мере двух человек. Об этом говорится в сообщении пресс-службы Генпрокуратуры. Мужчине поставили диагноз COVID-19, после чего выписали для амбулаторного лечения. Он указал фальшивый адрес и поселился в хостеле, чтобы \"не заразить домочадцев\". Когда терапевт из поликлиники не застал его дома, его объявили в розыск. Сейчас мужчину поместили в обсерватор для продолжения лечения. Когда она поправится, ему предъявят обвинения в нарушении санитарно-эпидемиологических правил (ч. один ст. двести тридцать шесть УК). Руководителю хостела прокуратура Кузьминок объявила предостережение, а хостел закрыли на карантин.']\n",
            "Token IDs: tensor([   101,   1469,  34787,    128,  50032,  15763,  31149,  75325,  21424,\n",
            "          5547, 118614,  54183,   6583,    845,  60718,    842,    128,  75374,\n",
            "         10673,   1469,  34787,    128,  30959,  10334,  15763,  31149,  75325,\n",
            "          2707,   3065,  29498,   3849,    851,  50032,  15763,  25305,   5547,\n",
            "        118614,  54183,   6583,    845,  60718,    842,    128,  75374,  16412,\n",
            "         10673,   1516,   5931,   5259,  15066,  83029,  38322,  12821,   9470,\n",
            "           873,    882,    120,    304,  20250,  65036,    130,  68557,  16058,\n",
            "         14265,    128,  62730,   1516,  45824,  37668,  41868,    326,    122,\n",
            "           132,   1650,   3491,  11717,   1469,  11380,  13185, 117782,   5307,\n",
            "           132,    304,  20649,    128,   1997,  17540,    128,  15171,  14035,\n",
            "           852,  31149,  75325,   2707,   1438,    852,  29498,   1827,  15034,\n",
            "           128,  95240,   2748,  29798,  19979,    845,  79576,   1755,  12645,\n",
            "           132,   2790,  36759,   3231,   2886,  34845,    845,  20645,  56494,\n",
            "          3065,  13373,   1650,  13352,    842,  29948,    851,  17326,   2748,\n",
            "         29948,    845,  54183,   1448,    128,  19322,   1641,  13382,  13373,\n",
            "           612,  13170,  15171,   3338,    128,  18317,   8133,  23808,  35365,\n",
            "         51009,  11682,  32706,    130,   1653,   6166,   7030,    132,  12025,\n",
            "          4105,    128,   3468,  48880,  17719,  14817,   1516,  14918,  95933,\n",
            "         41868, 111128,    613,    875,   5547, 118614,    128,  17528,  48366,\n",
            "           869,  10206,  15484,    326,    128,    901,  11098,   8609,    130,\n",
            "         17164,  17030,    132,  65245,  55532,  54183,   6583,  25811,  14368,\n",
            "         90823,   2011,    612,  77779,  28155,  65036,    130,  68557,  18332,\n",
            "         23530,    851,  38581,  57684,  22383,  23963,   4556,  10392,    128,\n",
            "         37177,   1469,  29452,  65194,  21212,  31149,  75325,   2707,   1438,\n",
            "           852,  42617,    132,  60079,    128,  50032,  38458,   6166,  69703,\n",
            "           128,  28015,  15409,   1641,  10659,  29460,   2785,   9075,  29460,\n",
            "         11298,    132,   8132,  15034,    128,   3474,    845,  16017,  16220,\n",
            "          1438,    852,  32226,    128,   3474,  34984,   2752,  31657,   1758,\n",
            "          6808,   1641,   5259,   1768,   2785,    138,    128,    146,   3422,\n",
            "           128,   8568,  48247,  10533,  35369,  40959,  11995,   3474,  15991,\n",
            "        100615,    852,  18481,   1469,  10649,   1641,   5259,   1768,   2785,\n",
            "          5848,   3422,    128,   8568,  35358,  14710,   1469,  10649,   2785,\n",
            "          5296,   3422,    128,   8568,  98926,   7089,   1469,  10649,   2785,\n",
            "          5296,   3422,    128,   8568,  48247,    102,    845,  60718,    842,\n",
            "         75374,  10673,   1469,  34787,    869,  11682,  32706,    130,   1653,\n",
            "           128,   2075,    880,    852,  30374,    845,  54183,   8151,    128,\n",
            "          5247,   1699,  27305,   2110,   4439,  86522,    850,   4243,  46800,\n",
            "         32463,    852,  14052,    845,  60718,    842,  58898,  10673,    845,\n",
            "         11480,  85109,   3565,  54183,   6583,    845,  17445,  15157,  22799,\n",
            "           884,    128,   2075,    880,    852,  50032,   1506,   8528,  31149,\n",
            "         75325,  21424,   1516,  14823,    852,  13895,   5547,   3451,    132,\n",
            "          1650,   3491,  12947,    845,  18583,   8609,    130,  10541, 117782,\n",
            "          5307,    132,  60079,  31586,  33618,  11682,  32706,    130,   1653,\n",
            "           128,   3468,   8133, 114800,   2748,  79576,   1766,  19979,    132,\n",
            "          2886,  27987,  34092,    880,    852,  13352,    851,  30374,    845,\n",
            "         54183,   8151,    128,   5247,    108,   1699,  50032,   2603,   4439,\n",
            "         86522,    850,   4243,    108,    132,   5318,  45439,   1703,  91054,\n",
            "          1699,  88252,   2752,   9599,    128,   2752,  20125,    845,  25966,\n",
            "           132,  10789,  86503,  34787,  49912,    845,  22666,   5855,   2748,\n",
            "         29798,  19979,    132,   5318,   4912,  17836,   3454,    128,   6164,\n",
            "         16101,   2190,  15479,    845,  28155,  65036,    130,  68557,  16058,\n",
            "         14265,    120,    887,    132,   5259,   1648,    132,  83029,  38322,\n",
            "         12821,   9470,    122,    132,  66374,  54183,   6583,  23399,  17445,\n",
            "         15157,   8021,  18767,  90823,   2011,    128,    625,  54183,   1448,\n",
            "         43662,   1469,  99558,    132,    102,      0,      0,      0,      0,\n",
            "             0,      0,      0,      0,      0,      0,      0,      0,      0,\n",
            "             0,      0,      0,      0,      0,      0,      0,      0])\n"
          ],
          "name": "stdout"
        }
      ]
    },
    {
      "cell_type": "code",
      "metadata": {
        "colab": {
          "base_uri": "https://localhost:8080/"
        },
        "id": "K1vw6Y2RkflJ",
        "outputId": "79b15c9c-a9cd-4147-effe-d7fc654b9a09"
      },
      "source": [
        "from torch.utils.data import TensorDataset, random_split\n",
        "\n",
        "# Combine the training inputs into a TensorDataset.\n",
        "dataset = TensorDataset(input_ids, attention_masks, labels)\n",
        "\n",
        "# Create a 90-10 train-validation split.\n",
        "\n",
        "# Calculate the number of samples to include in each set.\n",
        "train_size = int(0.9 * len(dataset))\n",
        "val_size = len(dataset) - train_size\n",
        "\n",
        "# Divide the dataset by randomly selecting samples.\n",
        "train_dataset, val_dataset = random_split(dataset, [train_size, val_size])\n",
        "\n",
        "print('{:>5,} training samples'.format(train_size))\n",
        "print('{:>5,} validation samples'.format(val_size))"
      ],
      "execution_count": null,
      "outputs": [
        {
          "output_type": "stream",
          "text": [
            "13,354 training samples\n",
            "1,484 validation samples\n"
          ],
          "name": "stdout"
        }
      ]
    },
    {
      "cell_type": "code",
      "metadata": {
        "id": "Lb5lnus9kjXA"
      },
      "source": [
        "from torch.utils.data import DataLoader, RandomSampler, SequentialSampler\n",
        "\n",
        "# The DataLoader needs to know our batch size for training, so we specify it \n",
        "# here. For fine-tuning BERT on a specific task, the authors recommend a batch \n",
        "# size of 16 or 32.\n",
        "batch_size = 4\n",
        "\n",
        "# Create the DataLoaders for our training and validation sets.\n",
        "# We'll take training samples in random order. \n",
        "train_dataloader = DataLoader(\n",
        "            train_dataset,  # The training samples.\n",
        "            sampler = RandomSampler(train_dataset), # Select batches randomly\n",
        "            batch_size = batch_size # Trains with this batch size.\n",
        "        )\n",
        "\n",
        "# For validation the order doesn't matter, so we'll just read them sequentially.\n",
        "validation_dataloader = DataLoader(\n",
        "            val_dataset, # The validation samples.\n",
        "            sampler = SequentialSampler(val_dataset), # Pull out batches sequentially.\n",
        "            batch_size = batch_size # Evaluate with this batch size.\n",
        "        )"
      ],
      "execution_count": null,
      "outputs": []
    },
    {
      "cell_type": "code",
      "metadata": {
        "colab": {
          "base_uri": "https://localhost:8080/"
        },
        "id": "mHj0MyhokrDC",
        "outputId": "65c50d8f-01a0-436a-cd7a-b00376cf4cbc"
      },
      "source": [
        "from transformers import RobertaForSequenceClassification, AdamW, RobertaConfig\n",
        "\n",
        "model = BertForSequenceClassification.from_pretrained(\n",
        "    model_name, # Use the 12-layer BERT model, with an uncased vocab.\n",
        "    num_labels = 2, # The number of output labels--2 for binary classification.\n",
        "                    # You can increase this for multi-class tasks.   \n",
        "    output_attentions = False, # Whether the model returns attentions weights.\n",
        "    output_hidden_states = False, # Whether the model returns all hidden-states.\n",
        ")\n",
        "model.cuda()"
      ],
      "execution_count": null,
      "outputs": [
        {
          "output_type": "stream",
          "text": [
            "Some weights of BertForSequenceClassification were not initialized from the model checkpoint at DeepPavlov/rubert-base-cased and are newly initialized: ['classifier.bias', 'classifier.weight']\n",
            "You should probably TRAIN this model on a down-stream task to be able to use it for predictions and inference.\n"
          ],
          "name": "stderr"
        },
        {
          "output_type": "execute_result",
          "data": {
            "text/plain": [
              "BertForSequenceClassification(\n",
              "  (bert): BertModel(\n",
              "    (embeddings): BertEmbeddings(\n",
              "      (word_embeddings): Embedding(119547, 768, padding_idx=0)\n",
              "      (position_embeddings): Embedding(512, 768)\n",
              "      (token_type_embeddings): Embedding(2, 768)\n",
              "      (LayerNorm): LayerNorm((768,), eps=1e-12, elementwise_affine=True)\n",
              "      (dropout): Dropout(p=0.1, inplace=False)\n",
              "    )\n",
              "    (encoder): BertEncoder(\n",
              "      (layer): ModuleList(\n",
              "        (0): BertLayer(\n",
              "          (attention): BertAttention(\n",
              "            (self): BertSelfAttention(\n",
              "              (query): Linear(in_features=768, out_features=768, bias=True)\n",
              "              (key): Linear(in_features=768, out_features=768, bias=True)\n",
              "              (value): Linear(in_features=768, out_features=768, bias=True)\n",
              "              (dropout): Dropout(p=0.1, inplace=False)\n",
              "            )\n",
              "            (output): BertSelfOutput(\n",
              "              (dense): Linear(in_features=768, out_features=768, bias=True)\n",
              "              (LayerNorm): LayerNorm((768,), eps=1e-12, elementwise_affine=True)\n",
              "              (dropout): Dropout(p=0.1, inplace=False)\n",
              "            )\n",
              "          )\n",
              "          (intermediate): BertIntermediate(\n",
              "            (dense): Linear(in_features=768, out_features=3072, bias=True)\n",
              "          )\n",
              "          (output): BertOutput(\n",
              "            (dense): Linear(in_features=3072, out_features=768, bias=True)\n",
              "            (LayerNorm): LayerNorm((768,), eps=1e-12, elementwise_affine=True)\n",
              "            (dropout): Dropout(p=0.1, inplace=False)\n",
              "          )\n",
              "        )\n",
              "        (1): BertLayer(\n",
              "          (attention): BertAttention(\n",
              "            (self): BertSelfAttention(\n",
              "              (query): Linear(in_features=768, out_features=768, bias=True)\n",
              "              (key): Linear(in_features=768, out_features=768, bias=True)\n",
              "              (value): Linear(in_features=768, out_features=768, bias=True)\n",
              "              (dropout): Dropout(p=0.1, inplace=False)\n",
              "            )\n",
              "            (output): BertSelfOutput(\n",
              "              (dense): Linear(in_features=768, out_features=768, bias=True)\n",
              "              (LayerNorm): LayerNorm((768,), eps=1e-12, elementwise_affine=True)\n",
              "              (dropout): Dropout(p=0.1, inplace=False)\n",
              "            )\n",
              "          )\n",
              "          (intermediate): BertIntermediate(\n",
              "            (dense): Linear(in_features=768, out_features=3072, bias=True)\n",
              "          )\n",
              "          (output): BertOutput(\n",
              "            (dense): Linear(in_features=3072, out_features=768, bias=True)\n",
              "            (LayerNorm): LayerNorm((768,), eps=1e-12, elementwise_affine=True)\n",
              "            (dropout): Dropout(p=0.1, inplace=False)\n",
              "          )\n",
              "        )\n",
              "        (2): BertLayer(\n",
              "          (attention): BertAttention(\n",
              "            (self): BertSelfAttention(\n",
              "              (query): Linear(in_features=768, out_features=768, bias=True)\n",
              "              (key): Linear(in_features=768, out_features=768, bias=True)\n",
              "              (value): Linear(in_features=768, out_features=768, bias=True)\n",
              "              (dropout): Dropout(p=0.1, inplace=False)\n",
              "            )\n",
              "            (output): BertSelfOutput(\n",
              "              (dense): Linear(in_features=768, out_features=768, bias=True)\n",
              "              (LayerNorm): LayerNorm((768,), eps=1e-12, elementwise_affine=True)\n",
              "              (dropout): Dropout(p=0.1, inplace=False)\n",
              "            )\n",
              "          )\n",
              "          (intermediate): BertIntermediate(\n",
              "            (dense): Linear(in_features=768, out_features=3072, bias=True)\n",
              "          )\n",
              "          (output): BertOutput(\n",
              "            (dense): Linear(in_features=3072, out_features=768, bias=True)\n",
              "            (LayerNorm): LayerNorm((768,), eps=1e-12, elementwise_affine=True)\n",
              "            (dropout): Dropout(p=0.1, inplace=False)\n",
              "          )\n",
              "        )\n",
              "        (3): BertLayer(\n",
              "          (attention): BertAttention(\n",
              "            (self): BertSelfAttention(\n",
              "              (query): Linear(in_features=768, out_features=768, bias=True)\n",
              "              (key): Linear(in_features=768, out_features=768, bias=True)\n",
              "              (value): Linear(in_features=768, out_features=768, bias=True)\n",
              "              (dropout): Dropout(p=0.1, inplace=False)\n",
              "            )\n",
              "            (output): BertSelfOutput(\n",
              "              (dense): Linear(in_features=768, out_features=768, bias=True)\n",
              "              (LayerNorm): LayerNorm((768,), eps=1e-12, elementwise_affine=True)\n",
              "              (dropout): Dropout(p=0.1, inplace=False)\n",
              "            )\n",
              "          )\n",
              "          (intermediate): BertIntermediate(\n",
              "            (dense): Linear(in_features=768, out_features=3072, bias=True)\n",
              "          )\n",
              "          (output): BertOutput(\n",
              "            (dense): Linear(in_features=3072, out_features=768, bias=True)\n",
              "            (LayerNorm): LayerNorm((768,), eps=1e-12, elementwise_affine=True)\n",
              "            (dropout): Dropout(p=0.1, inplace=False)\n",
              "          )\n",
              "        )\n",
              "        (4): BertLayer(\n",
              "          (attention): BertAttention(\n",
              "            (self): BertSelfAttention(\n",
              "              (query): Linear(in_features=768, out_features=768, bias=True)\n",
              "              (key): Linear(in_features=768, out_features=768, bias=True)\n",
              "              (value): Linear(in_features=768, out_features=768, bias=True)\n",
              "              (dropout): Dropout(p=0.1, inplace=False)\n",
              "            )\n",
              "            (output): BertSelfOutput(\n",
              "              (dense): Linear(in_features=768, out_features=768, bias=True)\n",
              "              (LayerNorm): LayerNorm((768,), eps=1e-12, elementwise_affine=True)\n",
              "              (dropout): Dropout(p=0.1, inplace=False)\n",
              "            )\n",
              "          )\n",
              "          (intermediate): BertIntermediate(\n",
              "            (dense): Linear(in_features=768, out_features=3072, bias=True)\n",
              "          )\n",
              "          (output): BertOutput(\n",
              "            (dense): Linear(in_features=3072, out_features=768, bias=True)\n",
              "            (LayerNorm): LayerNorm((768,), eps=1e-12, elementwise_affine=True)\n",
              "            (dropout): Dropout(p=0.1, inplace=False)\n",
              "          )\n",
              "        )\n",
              "        (5): BertLayer(\n",
              "          (attention): BertAttention(\n",
              "            (self): BertSelfAttention(\n",
              "              (query): Linear(in_features=768, out_features=768, bias=True)\n",
              "              (key): Linear(in_features=768, out_features=768, bias=True)\n",
              "              (value): Linear(in_features=768, out_features=768, bias=True)\n",
              "              (dropout): Dropout(p=0.1, inplace=False)\n",
              "            )\n",
              "            (output): BertSelfOutput(\n",
              "              (dense): Linear(in_features=768, out_features=768, bias=True)\n",
              "              (LayerNorm): LayerNorm((768,), eps=1e-12, elementwise_affine=True)\n",
              "              (dropout): Dropout(p=0.1, inplace=False)\n",
              "            )\n",
              "          )\n",
              "          (intermediate): BertIntermediate(\n",
              "            (dense): Linear(in_features=768, out_features=3072, bias=True)\n",
              "          )\n",
              "          (output): BertOutput(\n",
              "            (dense): Linear(in_features=3072, out_features=768, bias=True)\n",
              "            (LayerNorm): LayerNorm((768,), eps=1e-12, elementwise_affine=True)\n",
              "            (dropout): Dropout(p=0.1, inplace=False)\n",
              "          )\n",
              "        )\n",
              "        (6): BertLayer(\n",
              "          (attention): BertAttention(\n",
              "            (self): BertSelfAttention(\n",
              "              (query): Linear(in_features=768, out_features=768, bias=True)\n",
              "              (key): Linear(in_features=768, out_features=768, bias=True)\n",
              "              (value): Linear(in_features=768, out_features=768, bias=True)\n",
              "              (dropout): Dropout(p=0.1, inplace=False)\n",
              "            )\n",
              "            (output): BertSelfOutput(\n",
              "              (dense): Linear(in_features=768, out_features=768, bias=True)\n",
              "              (LayerNorm): LayerNorm((768,), eps=1e-12, elementwise_affine=True)\n",
              "              (dropout): Dropout(p=0.1, inplace=False)\n",
              "            )\n",
              "          )\n",
              "          (intermediate): BertIntermediate(\n",
              "            (dense): Linear(in_features=768, out_features=3072, bias=True)\n",
              "          )\n",
              "          (output): BertOutput(\n",
              "            (dense): Linear(in_features=3072, out_features=768, bias=True)\n",
              "            (LayerNorm): LayerNorm((768,), eps=1e-12, elementwise_affine=True)\n",
              "            (dropout): Dropout(p=0.1, inplace=False)\n",
              "          )\n",
              "        )\n",
              "        (7): BertLayer(\n",
              "          (attention): BertAttention(\n",
              "            (self): BertSelfAttention(\n",
              "              (query): Linear(in_features=768, out_features=768, bias=True)\n",
              "              (key): Linear(in_features=768, out_features=768, bias=True)\n",
              "              (value): Linear(in_features=768, out_features=768, bias=True)\n",
              "              (dropout): Dropout(p=0.1, inplace=False)\n",
              "            )\n",
              "            (output): BertSelfOutput(\n",
              "              (dense): Linear(in_features=768, out_features=768, bias=True)\n",
              "              (LayerNorm): LayerNorm((768,), eps=1e-12, elementwise_affine=True)\n",
              "              (dropout): Dropout(p=0.1, inplace=False)\n",
              "            )\n",
              "          )\n",
              "          (intermediate): BertIntermediate(\n",
              "            (dense): Linear(in_features=768, out_features=3072, bias=True)\n",
              "          )\n",
              "          (output): BertOutput(\n",
              "            (dense): Linear(in_features=3072, out_features=768, bias=True)\n",
              "            (LayerNorm): LayerNorm((768,), eps=1e-12, elementwise_affine=True)\n",
              "            (dropout): Dropout(p=0.1, inplace=False)\n",
              "          )\n",
              "        )\n",
              "        (8): BertLayer(\n",
              "          (attention): BertAttention(\n",
              "            (self): BertSelfAttention(\n",
              "              (query): Linear(in_features=768, out_features=768, bias=True)\n",
              "              (key): Linear(in_features=768, out_features=768, bias=True)\n",
              "              (value): Linear(in_features=768, out_features=768, bias=True)\n",
              "              (dropout): Dropout(p=0.1, inplace=False)\n",
              "            )\n",
              "            (output): BertSelfOutput(\n",
              "              (dense): Linear(in_features=768, out_features=768, bias=True)\n",
              "              (LayerNorm): LayerNorm((768,), eps=1e-12, elementwise_affine=True)\n",
              "              (dropout): Dropout(p=0.1, inplace=False)\n",
              "            )\n",
              "          )\n",
              "          (intermediate): BertIntermediate(\n",
              "            (dense): Linear(in_features=768, out_features=3072, bias=True)\n",
              "          )\n",
              "          (output): BertOutput(\n",
              "            (dense): Linear(in_features=3072, out_features=768, bias=True)\n",
              "            (LayerNorm): LayerNorm((768,), eps=1e-12, elementwise_affine=True)\n",
              "            (dropout): Dropout(p=0.1, inplace=False)\n",
              "          )\n",
              "        )\n",
              "        (9): BertLayer(\n",
              "          (attention): BertAttention(\n",
              "            (self): BertSelfAttention(\n",
              "              (query): Linear(in_features=768, out_features=768, bias=True)\n",
              "              (key): Linear(in_features=768, out_features=768, bias=True)\n",
              "              (value): Linear(in_features=768, out_features=768, bias=True)\n",
              "              (dropout): Dropout(p=0.1, inplace=False)\n",
              "            )\n",
              "            (output): BertSelfOutput(\n",
              "              (dense): Linear(in_features=768, out_features=768, bias=True)\n",
              "              (LayerNorm): LayerNorm((768,), eps=1e-12, elementwise_affine=True)\n",
              "              (dropout): Dropout(p=0.1, inplace=False)\n",
              "            )\n",
              "          )\n",
              "          (intermediate): BertIntermediate(\n",
              "            (dense): Linear(in_features=768, out_features=3072, bias=True)\n",
              "          )\n",
              "          (output): BertOutput(\n",
              "            (dense): Linear(in_features=3072, out_features=768, bias=True)\n",
              "            (LayerNorm): LayerNorm((768,), eps=1e-12, elementwise_affine=True)\n",
              "            (dropout): Dropout(p=0.1, inplace=False)\n",
              "          )\n",
              "        )\n",
              "        (10): BertLayer(\n",
              "          (attention): BertAttention(\n",
              "            (self): BertSelfAttention(\n",
              "              (query): Linear(in_features=768, out_features=768, bias=True)\n",
              "              (key): Linear(in_features=768, out_features=768, bias=True)\n",
              "              (value): Linear(in_features=768, out_features=768, bias=True)\n",
              "              (dropout): Dropout(p=0.1, inplace=False)\n",
              "            )\n",
              "            (output): BertSelfOutput(\n",
              "              (dense): Linear(in_features=768, out_features=768, bias=True)\n",
              "              (LayerNorm): LayerNorm((768,), eps=1e-12, elementwise_affine=True)\n",
              "              (dropout): Dropout(p=0.1, inplace=False)\n",
              "            )\n",
              "          )\n",
              "          (intermediate): BertIntermediate(\n",
              "            (dense): Linear(in_features=768, out_features=3072, bias=True)\n",
              "          )\n",
              "          (output): BertOutput(\n",
              "            (dense): Linear(in_features=3072, out_features=768, bias=True)\n",
              "            (LayerNorm): LayerNorm((768,), eps=1e-12, elementwise_affine=True)\n",
              "            (dropout): Dropout(p=0.1, inplace=False)\n",
              "          )\n",
              "        )\n",
              "        (11): BertLayer(\n",
              "          (attention): BertAttention(\n",
              "            (self): BertSelfAttention(\n",
              "              (query): Linear(in_features=768, out_features=768, bias=True)\n",
              "              (key): Linear(in_features=768, out_features=768, bias=True)\n",
              "              (value): Linear(in_features=768, out_features=768, bias=True)\n",
              "              (dropout): Dropout(p=0.1, inplace=False)\n",
              "            )\n",
              "            (output): BertSelfOutput(\n",
              "              (dense): Linear(in_features=768, out_features=768, bias=True)\n",
              "              (LayerNorm): LayerNorm((768,), eps=1e-12, elementwise_affine=True)\n",
              "              (dropout): Dropout(p=0.1, inplace=False)\n",
              "            )\n",
              "          )\n",
              "          (intermediate): BertIntermediate(\n",
              "            (dense): Linear(in_features=768, out_features=3072, bias=True)\n",
              "          )\n",
              "          (output): BertOutput(\n",
              "            (dense): Linear(in_features=3072, out_features=768, bias=True)\n",
              "            (LayerNorm): LayerNorm((768,), eps=1e-12, elementwise_affine=True)\n",
              "            (dropout): Dropout(p=0.1, inplace=False)\n",
              "          )\n",
              "        )\n",
              "      )\n",
              "    )\n",
              "    (pooler): BertPooler(\n",
              "      (dense): Linear(in_features=768, out_features=768, bias=True)\n",
              "      (activation): Tanh()\n",
              "    )\n",
              "  )\n",
              "  (dropout): Dropout(p=0.1, inplace=False)\n",
              "  (classifier): Linear(in_features=768, out_features=2, bias=True)\n",
              ")"
            ]
          },
          "metadata": {
            "tags": []
          },
          "execution_count": 31
        }
      ]
    },
    {
      "cell_type": "code",
      "metadata": {
        "colab": {
          "base_uri": "https://localhost:8080/"
        },
        "id": "mVWs7vAHk1lJ",
        "outputId": "d153802d-cb34-4974-8a9c-38c9bbabb242"
      },
      "source": [
        "# Get all of the model's parameters as a list of tuples.\n",
        "params = list(model.named_parameters())\n",
        "\n",
        "print('The BERT model has {:} different named parameters.\\n'.format(len(params)))\n",
        "\n",
        "print('==== Embedding Layer ====\\n')\n",
        "\n",
        "for p in params[0:5]:\n",
        "    print(\"{:<55} {:>12}\".format(p[0], str(tuple(p[1].size()))))\n",
        "\n",
        "print('\\n==== First Transformer ====\\n')\n",
        "\n",
        "for p in params[5:21]:\n",
        "    print(\"{:<55} {:>12}\".format(p[0], str(tuple(p[1].size()))))\n",
        "\n",
        "print('\\n==== Output Layer ====\\n')\n",
        "\n",
        "for p in params[-4:]:\n",
        "    print(\"{:<55} {:>12}\".format(p[0], str(tuple(p[1].size()))))"
      ],
      "execution_count": null,
      "outputs": [
        {
          "output_type": "stream",
          "text": [
            "The BERT model has 201 different named parameters.\n",
            "\n",
            "==== Embedding Layer ====\n",
            "\n",
            "bert.embeddings.word_embeddings.weight                  (119547, 768)\n",
            "bert.embeddings.position_embeddings.weight                (512, 768)\n",
            "bert.embeddings.token_type_embeddings.weight                (2, 768)\n",
            "bert.embeddings.LayerNorm.weight                              (768,)\n",
            "bert.embeddings.LayerNorm.bias                                (768,)\n",
            "\n",
            "==== First Transformer ====\n",
            "\n",
            "bert.encoder.layer.0.attention.self.query.weight          (768, 768)\n",
            "bert.encoder.layer.0.attention.self.query.bias                (768,)\n",
            "bert.encoder.layer.0.attention.self.key.weight            (768, 768)\n",
            "bert.encoder.layer.0.attention.self.key.bias                  (768,)\n",
            "bert.encoder.layer.0.attention.self.value.weight          (768, 768)\n",
            "bert.encoder.layer.0.attention.self.value.bias                (768,)\n",
            "bert.encoder.layer.0.attention.output.dense.weight        (768, 768)\n",
            "bert.encoder.layer.0.attention.output.dense.bias              (768,)\n",
            "bert.encoder.layer.0.attention.output.LayerNorm.weight        (768,)\n",
            "bert.encoder.layer.0.attention.output.LayerNorm.bias          (768,)\n",
            "bert.encoder.layer.0.intermediate.dense.weight           (3072, 768)\n",
            "bert.encoder.layer.0.intermediate.dense.bias                 (3072,)\n",
            "bert.encoder.layer.0.output.dense.weight                 (768, 3072)\n",
            "bert.encoder.layer.0.output.dense.bias                        (768,)\n",
            "bert.encoder.layer.0.output.LayerNorm.weight                  (768,)\n",
            "bert.encoder.layer.0.output.LayerNorm.bias                    (768,)\n",
            "\n",
            "==== Output Layer ====\n",
            "\n",
            "bert.pooler.dense.weight                                  (768, 768)\n",
            "bert.pooler.dense.bias                                        (768,)\n",
            "classifier.weight                                           (2, 768)\n",
            "classifier.bias                                                 (2,)\n"
          ],
          "name": "stdout"
        }
      ]
    },
    {
      "cell_type": "code",
      "metadata": {
        "id": "KKkdQdgZk4Eg"
      },
      "source": [
        "# Note: AdamW is a class from the huggingface library (as opposed to pytorch) \n",
        "# I believe the 'W' stands for 'Weight Decay fix\"\n",
        "optimizer = AdamW(model.parameters(),\n",
        "                  lr = 2e-5, # args.learning_rate - default is 5e-5, our notebook had 2e-5\n",
        "                  eps = 1e-8 # args.adam_epsilon  - default is 1e-8.\n",
        "                )"
      ],
      "execution_count": null,
      "outputs": []
    },
    {
      "cell_type": "code",
      "metadata": {
        "id": "nGvtMbAmk6w-"
      },
      "source": [
        "from transformers import get_linear_schedule_with_warmup\n",
        "\n",
        "# Number of training epochs. The BERT authors recommend between 2 and 4. \n",
        "# We chose to run for 4, but we'll see later that this may be over-fitting the\n",
        "# training data.\n",
        "epochs = 3\n",
        "\n",
        "# Total number of training steps is [number of batches] x [number of epochs]. \n",
        "# (Note that this is not the same as the number of training samples).\n",
        "total_steps = len(train_dataloader) * epochs\n",
        "\n",
        "# Create the learning rate scheduler.\n",
        "scheduler = get_linear_schedule_with_warmup(optimizer, \n",
        "                                            num_warmup_steps = 0, # Default value in run_glue.py\n",
        "                                            num_training_steps = total_steps)"
      ],
      "execution_count": null,
      "outputs": []
    },
    {
      "cell_type": "code",
      "metadata": {
        "id": "x6fHleInk-IC"
      },
      "source": [
        "import numpy as np\n",
        "\n",
        "# Function to calculate the accuracy of our predictions vs labels\n",
        "def flat_accuracy(preds, labels):\n",
        "    pred_flat = np.argmax(preds, axis=1).flatten()\n",
        "    labels_flat = labels.flatten()\n",
        "    return np.sum(pred_flat == labels_flat) / len(labels_flat)"
      ],
      "execution_count": null,
      "outputs": []
    },
    {
      "cell_type": "code",
      "metadata": {
        "id": "EmfSbQ8ClACc"
      },
      "source": [
        "import time\n",
        "import datetime\n",
        "\n",
        "def format_time(elapsed):\n",
        "    '''\n",
        "    Takes a time in seconds and returns a string hh:mm:ss\n",
        "    '''\n",
        "    # Round to the nearest second.\n",
        "    elapsed_rounded = int(round((elapsed)))\n",
        "    \n",
        "    # Format as hh:mm:ss\n",
        "    return str(datetime.timedelta(seconds=elapsed_rounded))\n"
      ],
      "execution_count": null,
      "outputs": []
    },
    {
      "cell_type": "code",
      "metadata": {
        "colab": {
          "background_save": true,
          "base_uri": "https://localhost:8080/"
        },
        "id": "4ghs5Y3NlC0u",
        "outputId": "fa254e59-36ad-4e92-d4d9-43cfbaa1102f"
      },
      "source": [
        "import random\n",
        "import numpy as np\n",
        "\n",
        "# This training code is based on the `run_glue.py` script here:\n",
        "# https://github.com/huggingface/transformers/blob/5bfcd0485ece086ebcbed2d008813037968a9e58/examples/run_glue.py#L128\n",
        "\n",
        "# Set the seed value all over the place to make this reproducible.\n",
        "seed_val = 42\n",
        "\n",
        "random.seed(seed_val)\n",
        "np.random.seed(seed_val)\n",
        "torch.manual_seed(seed_val)\n",
        "torch.cuda.manual_seed_all(seed_val)\n",
        "\n",
        "# We'll store a number of quantities such as training and validation loss, \n",
        "# validation accuracy, and timings.\n",
        "training_stats = []\n",
        "\n",
        "# Measure the total training time for the whole run.\n",
        "total_t0 = time.time()\n",
        "\n",
        "# For each epoch...\n",
        "for epoch_i in range(0, epochs):\n",
        "    \n",
        "    # ========================================\n",
        "    #               Training\n",
        "    # ========================================\n",
        "    \n",
        "    # Perform one full pass over the training set.\n",
        "\n",
        "    print(\"\")\n",
        "    print('======== Epoch {:} / {:} ========'.format(epoch_i + 1, epochs))\n",
        "    print('Training...')\n",
        "\n",
        "    # Measure how long the training epoch takes.\n",
        "    t0 = time.time()\n",
        "\n",
        "    # Reset the total loss for this epoch.\n",
        "    total_train_loss = 0\n",
        "\n",
        "    # Put the model into training mode. Don't be mislead--the call to \n",
        "    # `train` just changes the *mode*, it doesn't *perform* the training.\n",
        "    # `dropout` and `batchnorm` layers behave differently during training\n",
        "    # vs. test (source: https://stackoverflow.com/questions/51433378/what-does-model-train-do-in-pytorch)\n",
        "    model.train()\n",
        "\n",
        "    # For each batch of training data...\n",
        "    for step, batch in enumerate(train_dataloader):\n",
        "\n",
        "        # Progress update every 40 batches.\n",
        "        if step % 40 == 0 and not step == 0:\n",
        "            # Calculate elapsed time in minutes.\n",
        "            elapsed = format_time(time.time() - t0)\n",
        "            \n",
        "            # Report progress.\n",
        "            print('  Batch {:>5,}  of  {:>5,}.    Elapsed: {:}.'.format(step, len(train_dataloader), elapsed))\n",
        "\n",
        "        # Unpack this training batch from our dataloader. \n",
        "        #\n",
        "        # As we unpack the batch, we'll also copy each tensor to the GPU using the \n",
        "        # `to` method.\n",
        "        #\n",
        "        # `batch` contains three pytorch tensors:\n",
        "        #   [0]: input ids \n",
        "        #   [1]: attention masks\n",
        "        #   [2]: labels \n",
        "        b_input_ids = batch[0].to(device)\n",
        "        b_input_mask = batch[1].to(device)\n",
        "        b_labels = batch[2].to(device)\n",
        "\n",
        "        # Always clear any previously calculated gradients before performing a\n",
        "        # backward pass. PyTorch doesn't do this automatically because \n",
        "        # accumulating the gradients is \"convenient while training RNNs\". \n",
        "        # (source: https://stackoverflow.com/questions/48001598/why-do-we-need-to-call-zero-grad-in-pytorch)\n",
        "        model.zero_grad()        \n",
        "\n",
        "        # Perform a forward pass (evaluate the model on this training batch).\n",
        "        # The documentation for this `model` function is here: \n",
        "        # https://huggingface.co/transformers/v2.2.0/model_doc/bert.html#transformers.BertForSequenceClassification\n",
        "        # It returns different numbers of parameters depending on what arguments\n",
        "        # arge given and what flags are set. For our useage here, it returns\n",
        "        # the loss (because we provided labels) and the \"logits\"--the model\n",
        "        # outputs prior to activation.\n",
        "        loss = model(b_input_ids, \n",
        "                             token_type_ids=None, \n",
        "                             attention_mask=b_input_mask, \n",
        "                             labels=b_labels)[0]\n",
        "        logits = model(b_input_ids, \n",
        "                             token_type_ids=None, \n",
        "                             attention_mask=b_input_mask, \n",
        "                             labels=b_labels)[1]                   \n",
        "\n",
        "        # Accumulate the training loss over all of the batches so that we can\n",
        "        # calculate the average loss at the end. `loss` is a Tensor containing a\n",
        "        # single value; the `.item()` function just returns the Python value \n",
        "        # from the tensor.\n",
        "        total_train_loss += loss.item()\n",
        "\n",
        "        # Perform a backward pass to calculate the gradients.\n",
        "        loss.backward()\n",
        "\n",
        "        # Clip the norm of the gradients to 1.0.\n",
        "        # This is to help prevent the \"exploding gradients\" problem.\n",
        "        torch.nn.utils.clip_grad_norm_(model.parameters(), 1.0)\n",
        "\n",
        "        # Update parameters and take a step using the computed gradient.\n",
        "        # The optimizer dictates the \"update rule\"--how the parameters are\n",
        "        # modified based on their gradients, the learning rate, etc.\n",
        "        optimizer.step()\n",
        "\n",
        "        # Update the learning rate.\n",
        "        scheduler.step()\n",
        "\n",
        "    # Calculate the average loss over all of the batches.\n",
        "    avg_train_loss = total_train_loss / len(train_dataloader)            \n",
        "    \n",
        "    # Measure how long this epoch took.\n",
        "    training_time = format_time(time.time() - t0)\n",
        "\n",
        "    print(\"\")\n",
        "    print(\"  Average training loss: {0:.2f}\".format(avg_train_loss))\n",
        "    print(\"  Training epcoh took: {:}\".format(training_time))\n",
        "        \n",
        "    # ========================================\n",
        "    #               Validation\n",
        "    # ========================================\n",
        "    # After the completion of each training epoch, measure our performance on\n",
        "    # our validation set.\n",
        "\n",
        "    print(\"\")\n",
        "    print(\"Running Validation...\")\n",
        "\n",
        "    t0 = time.time()\n",
        "\n",
        "    # Put the model in evaluation mode--the dropout layers behave differently\n",
        "    # during evaluation.\n",
        "    model.eval()\n",
        "\n",
        "    # Tracking variables \n",
        "    total_eval_accuracy = 0\n",
        "    total_eval_loss = 0\n",
        "    nb_eval_steps = 0\n",
        "\n",
        "    # Evaluate data for one epoch\n",
        "    for batch in validation_dataloader:\n",
        "        \n",
        "        # Unpack this training batch from our dataloader. \n",
        "        #\n",
        "        # As we unpack the batch, we'll also copy each tensor to the GPU using \n",
        "        # the `to` method.\n",
        "        #\n",
        "        # `batch` contains three pytorch tensors:\n",
        "        #   [0]: input ids \n",
        "        #   [1]: attention masks\n",
        "        #   [2]: labels \n",
        "        b_input_ids = batch[0].to(device)\n",
        "        b_input_mask = batch[1].to(device)\n",
        "        b_labels = batch[2].to(device)\n",
        "        \n",
        "        # Tell pytorch not to bother with constructing the compute graph during\n",
        "        # the forward pass, since this is only needed for backprop (training).\n",
        "        with torch.no_grad():        \n",
        "\n",
        "            # Forward pass, calculate logit predictions.\n",
        "            # token_type_ids is the same as the \"segment ids\", which \n",
        "            # differentiates sentence 1 and 2 in 2-sentence tasks.\n",
        "            # The documentation for this `model` function is here: \n",
        "            # https://huggingface.co/transformers/v2.2.0/model_doc/bert.html#transformers.BertForSequenceClassification\n",
        "            # Get the \"logits\" output by the model. The \"logits\" are the output\n",
        "            # values prior to applying an activation function like the softmax.\n",
        "            loss = model(b_input_ids, \n",
        "                                   token_type_ids=None, \n",
        "                                   attention_mask=b_input_mask,\n",
        "                                   labels=b_labels)[0]\n",
        "            logits = model(b_input_ids, \n",
        "                                   token_type_ids=None, \n",
        "                                   attention_mask=b_input_mask,\n",
        "                                   labels=b_labels)[1]\n",
        "            \n",
        "        # Accumulate the validation loss.\n",
        "        total_eval_loss += loss.item()\n",
        "\n",
        "        # Move logits and labels to CPU\n",
        "        logits = logits.detach().cpu().numpy()\n",
        "        label_ids = b_labels.to('cpu').numpy()\n",
        "\n",
        "        # Calculate the accuracy for this batch of test sentences, and\n",
        "        # accumulate it over all batches.\n",
        "        total_eval_accuracy += flat_accuracy(logits, label_ids)\n",
        "        \n",
        "\n",
        "    # Report the final accuracy for this validation run.\n",
        "    avg_val_accuracy = total_eval_accuracy / len(validation_dataloader)\n",
        "    print(\"  Accuracy: {0:.2f}\".format(avg_val_accuracy))\n",
        "\n",
        "    # Calculate the average loss over all of the batches.\n",
        "    avg_val_loss = total_eval_loss / len(validation_dataloader)\n",
        "    \n",
        "    # Measure how long the validation run took.\n",
        "    validation_time = format_time(time.time() - t0)\n",
        "    \n",
        "    print(\"  Validation Loss: {0:.2f}\".format(avg_val_loss))\n",
        "    print(\"  Validation took: {:}\".format(validation_time))\n",
        "\n",
        "    # Record all statistics from this epoch.\n",
        "    training_stats.append(\n",
        "        {\n",
        "            'epoch': epoch_i + 1,\n",
        "            'Training Loss': avg_train_loss,\n",
        "            'Valid. Loss': avg_val_loss,\n",
        "            'Valid. Accur.': avg_val_accuracy,\n",
        "            'Training Time': training_time,\n",
        "            'Validation Time': validation_time\n",
        "        }\n",
        "    )\n",
        "\n",
        "print(\"\")\n",
        "print(\"Training complete!\")\n",
        "\n",
        "print(\"Total training took {:} (h:mm:ss)\".format(format_time(time.time()-total_t0)))"
      ],
      "execution_count": null,
      "outputs": [
        {
          "output_type": "stream",
          "text": [
            "\n",
            "======== Epoch 1 / 3 ========\n",
            "Training...\n",
            "  Batch    40  of  3,339.    Elapsed: 0:00:28.\n",
            "  Batch    80  of  3,339.    Elapsed: 0:00:55.\n",
            "  Batch   120  of  3,339.    Elapsed: 0:01:21.\n",
            "  Batch   160  of  3,339.    Elapsed: 0:01:48.\n",
            "  Batch   200  of  3,339.    Elapsed: 0:02:15.\n",
            "  Batch   240  of  3,339.    Elapsed: 0:02:42.\n",
            "  Batch   280  of  3,339.    Elapsed: 0:03:09.\n",
            "  Batch   320  of  3,339.    Elapsed: 0:03:36.\n",
            "  Batch   360  of  3,339.    Elapsed: 0:04:02.\n",
            "  Batch   400  of  3,339.    Elapsed: 0:04:29.\n",
            "  Batch   440  of  3,339.    Elapsed: 0:04:56.\n",
            "  Batch   480  of  3,339.    Elapsed: 0:05:23.\n",
            "  Batch   520  of  3,339.    Elapsed: 0:05:49.\n",
            "  Batch   560  of  3,339.    Elapsed: 0:06:16.\n",
            "  Batch   600  of  3,339.    Elapsed: 0:06:43.\n",
            "  Batch   640  of  3,339.    Elapsed: 0:07:10.\n",
            "  Batch   680  of  3,339.    Elapsed: 0:07:36.\n",
            "  Batch   720  of  3,339.    Elapsed: 0:08:03.\n",
            "  Batch   760  of  3,339.    Elapsed: 0:08:30.\n",
            "  Batch   800  of  3,339.    Elapsed: 0:08:57.\n",
            "  Batch   840  of  3,339.    Elapsed: 0:09:24.\n",
            "  Batch   880  of  3,339.    Elapsed: 0:09:50.\n",
            "  Batch   920  of  3,339.    Elapsed: 0:10:17.\n",
            "  Batch   960  of  3,339.    Elapsed: 0:10:44.\n",
            "  Batch 1,000  of  3,339.    Elapsed: 0:11:11.\n",
            "  Batch 1,040  of  3,339.    Elapsed: 0:11:38.\n",
            "  Batch 1,080  of  3,339.    Elapsed: 0:12:04.\n",
            "  Batch 1,120  of  3,339.    Elapsed: 0:12:31.\n",
            "  Batch 1,160  of  3,339.    Elapsed: 0:12:58.\n",
            "  Batch 1,200  of  3,339.    Elapsed: 0:13:24.\n",
            "  Batch 1,240  of  3,339.    Elapsed: 0:13:51.\n",
            "  Batch 1,280  of  3,339.    Elapsed: 0:14:18.\n",
            "  Batch 1,320  of  3,339.    Elapsed: 0:14:45.\n",
            "  Batch 1,360  of  3,339.    Elapsed: 0:15:11.\n",
            "  Batch 1,400  of  3,339.    Elapsed: 0:15:38.\n",
            "  Batch 1,440  of  3,339.    Elapsed: 0:16:05.\n",
            "  Batch 1,480  of  3,339.    Elapsed: 0:16:31.\n",
            "  Batch 1,520  of  3,339.    Elapsed: 0:16:58.\n",
            "  Batch 1,560  of  3,339.    Elapsed: 0:17:25.\n",
            "  Batch 1,600  of  3,339.    Elapsed: 0:17:51.\n",
            "  Batch 1,640  of  3,339.    Elapsed: 0:18:18.\n",
            "  Batch 1,680  of  3,339.    Elapsed: 0:18:45.\n",
            "  Batch 1,720  of  3,339.    Elapsed: 0:19:11.\n",
            "  Batch 1,760  of  3,339.    Elapsed: 0:19:38.\n",
            "  Batch 1,800  of  3,339.    Elapsed: 0:20:05.\n",
            "  Batch 1,840  of  3,339.    Elapsed: 0:20:31.\n",
            "  Batch 1,880  of  3,339.    Elapsed: 0:20:58.\n",
            "  Batch 1,920  of  3,339.    Elapsed: 0:21:25.\n",
            "  Batch 1,960  of  3,339.    Elapsed: 0:21:52.\n",
            "  Batch 2,000  of  3,339.    Elapsed: 0:22:18.\n",
            "  Batch 2,040  of  3,339.    Elapsed: 0:22:45.\n",
            "  Batch 2,080  of  3,339.    Elapsed: 0:23:12.\n",
            "  Batch 2,120  of  3,339.    Elapsed: 0:23:38.\n",
            "  Batch 2,160  of  3,339.    Elapsed: 0:24:05.\n",
            "  Batch 2,200  of  3,339.    Elapsed: 0:24:31.\n",
            "  Batch 2,240  of  3,339.    Elapsed: 0:24:58.\n",
            "  Batch 2,280  of  3,339.    Elapsed: 0:25:25.\n",
            "  Batch 2,320  of  3,339.    Elapsed: 0:25:52.\n",
            "  Batch 2,360  of  3,339.    Elapsed: 0:26:18.\n",
            "  Batch 2,400  of  3,339.    Elapsed: 0:26:45.\n",
            "  Batch 2,440  of  3,339.    Elapsed: 0:27:12.\n",
            "  Batch 2,480  of  3,339.    Elapsed: 0:27:38.\n",
            "  Batch 2,520  of  3,339.    Elapsed: 0:28:05.\n",
            "  Batch 2,560  of  3,339.    Elapsed: 0:28:32.\n",
            "  Batch 2,600  of  3,339.    Elapsed: 0:28:59.\n",
            "  Batch 2,640  of  3,339.    Elapsed: 0:29:25.\n",
            "  Batch 2,680  of  3,339.    Elapsed: 0:29:52.\n",
            "  Batch 2,720  of  3,339.    Elapsed: 0:30:19.\n",
            "  Batch 2,760  of  3,339.    Elapsed: 0:30:45.\n",
            "  Batch 2,800  of  3,339.    Elapsed: 0:31:12.\n",
            "  Batch 2,840  of  3,339.    Elapsed: 0:31:39.\n",
            "  Batch 2,880  of  3,339.    Elapsed: 0:32:06.\n",
            "  Batch 2,920  of  3,339.    Elapsed: 0:32:32.\n",
            "  Batch 2,960  of  3,339.    Elapsed: 0:32:59.\n",
            "  Batch 3,000  of  3,339.    Elapsed: 0:33:26.\n",
            "  Batch 3,040  of  3,339.    Elapsed: 0:33:53.\n",
            "  Batch 3,080  of  3,339.    Elapsed: 0:34:19.\n",
            "  Batch 3,120  of  3,339.    Elapsed: 0:34:46.\n",
            "  Batch 3,160  of  3,339.    Elapsed: 0:35:13.\n",
            "  Batch 3,200  of  3,339.    Elapsed: 0:35:39.\n",
            "  Batch 3,240  of  3,339.    Elapsed: 0:36:06.\n",
            "  Batch 3,280  of  3,339.    Elapsed: 0:36:33.\n",
            "  Batch 3,320  of  3,339.    Elapsed: 0:37:00.\n",
            "\n",
            "  Average training loss: 0.30\n",
            "  Training epcoh took: 0:37:12\n",
            "\n",
            "Running Validation...\n",
            "  Accuracy: 0.95\n",
            "  Validation Loss: 0.22\n",
            "  Validation took: 0:02:01\n",
            "\n",
            "======== Epoch 2 / 3 ========\n",
            "Training...\n",
            "  Batch    40  of  3,339.    Elapsed: 0:00:27.\n",
            "  Batch    80  of  3,339.    Elapsed: 0:00:53.\n",
            "  Batch   120  of  3,339.    Elapsed: 0:01:20.\n",
            "  Batch   160  of  3,339.    Elapsed: 0:01:47.\n",
            "  Batch   200  of  3,339.    Elapsed: 0:02:13.\n",
            "  Batch   240  of  3,339.    Elapsed: 0:02:40.\n",
            "  Batch   280  of  3,339.    Elapsed: 0:03:07.\n",
            "  Batch   320  of  3,339.    Elapsed: 0:03:33.\n",
            "  Batch   360  of  3,339.    Elapsed: 0:04:00.\n",
            "  Batch   400  of  3,339.    Elapsed: 0:04:27.\n",
            "  Batch   440  of  3,339.    Elapsed: 0:04:53.\n",
            "  Batch   480  of  3,339.    Elapsed: 0:05:20.\n",
            "  Batch   520  of  3,339.    Elapsed: 0:05:46.\n",
            "  Batch   560  of  3,339.    Elapsed: 0:06:13.\n",
            "  Batch   600  of  3,339.    Elapsed: 0:06:39.\n",
            "  Batch   640  of  3,339.    Elapsed: 0:07:06.\n",
            "  Batch   680  of  3,339.    Elapsed: 0:07:33.\n",
            "  Batch   720  of  3,339.    Elapsed: 0:08:00.\n",
            "  Batch   760  of  3,339.    Elapsed: 0:08:26.\n",
            "  Batch   800  of  3,339.    Elapsed: 0:08:53.\n",
            "  Batch   840  of  3,339.    Elapsed: 0:09:20.\n",
            "  Batch   880  of  3,339.    Elapsed: 0:09:46.\n",
            "  Batch   920  of  3,339.    Elapsed: 0:10:13.\n",
            "  Batch   960  of  3,339.    Elapsed: 0:10:40.\n",
            "  Batch 1,000  of  3,339.    Elapsed: 0:11:06.\n",
            "  Batch 1,040  of  3,339.    Elapsed: 0:11:33.\n",
            "  Batch 1,080  of  3,339.    Elapsed: 0:11:59.\n",
            "  Batch 1,120  of  3,339.    Elapsed: 0:12:26.\n",
            "  Batch 1,160  of  3,339.    Elapsed: 0:12:53.\n",
            "  Batch 1,200  of  3,339.    Elapsed: 0:13:20.\n",
            "  Batch 1,240  of  3,339.    Elapsed: 0:13:46.\n",
            "  Batch 1,280  of  3,339.    Elapsed: 0:14:13.\n",
            "  Batch 1,320  of  3,339.    Elapsed: 0:14:40.\n",
            "  Batch 1,360  of  3,339.    Elapsed: 0:15:06.\n",
            "  Batch 1,400  of  3,339.    Elapsed: 0:15:33.\n",
            "  Batch 1,440  of  3,339.    Elapsed: 0:16:00.\n",
            "  Batch 1,480  of  3,339.    Elapsed: 0:16:26.\n",
            "  Batch 1,520  of  3,339.    Elapsed: 0:16:53.\n",
            "  Batch 1,560  of  3,339.    Elapsed: 0:17:19.\n",
            "  Batch 1,600  of  3,339.    Elapsed: 0:17:46.\n",
            "  Batch 1,640  of  3,339.    Elapsed: 0:18:13.\n",
            "  Batch 1,680  of  3,339.    Elapsed: 0:18:40.\n",
            "  Batch 1,720  of  3,339.    Elapsed: 0:19:06.\n",
            "  Batch 1,760  of  3,339.    Elapsed: 0:19:33.\n",
            "  Batch 1,800  of  3,339.    Elapsed: 0:19:59.\n",
            "  Batch 1,840  of  3,339.    Elapsed: 0:20:26.\n",
            "  Batch 1,880  of  3,339.    Elapsed: 0:20:53.\n",
            "  Batch 1,920  of  3,339.    Elapsed: 0:21:19.\n",
            "  Batch 1,960  of  3,339.    Elapsed: 0:21:46.\n",
            "  Batch 2,000  of  3,339.    Elapsed: 0:22:13.\n",
            "  Batch 2,040  of  3,339.    Elapsed: 0:22:40.\n",
            "  Batch 2,080  of  3,339.    Elapsed: 0:23:07.\n",
            "  Batch 2,120  of  3,339.    Elapsed: 0:23:33.\n",
            "  Batch 2,160  of  3,339.    Elapsed: 0:24:00.\n",
            "  Batch 2,200  of  3,339.    Elapsed: 0:24:27.\n",
            "  Batch 2,240  of  3,339.    Elapsed: 0:24:53.\n",
            "  Batch 2,280  of  3,339.    Elapsed: 0:25:20.\n",
            "  Batch 2,320  of  3,339.    Elapsed: 0:25:47.\n",
            "  Batch 2,360  of  3,339.    Elapsed: 0:26:13.\n",
            "  Batch 2,400  of  3,339.    Elapsed: 0:26:40.\n",
            "  Batch 2,440  of  3,339.    Elapsed: 0:27:07.\n",
            "  Batch 2,480  of  3,339.    Elapsed: 0:27:33.\n",
            "  Batch 2,520  of  3,339.    Elapsed: 0:28:00.\n",
            "  Batch 2,560  of  3,339.    Elapsed: 0:28:27.\n",
            "  Batch 2,600  of  3,339.    Elapsed: 0:28:54.\n",
            "  Batch 2,640  of  3,339.    Elapsed: 0:29:20.\n",
            "  Batch 2,680  of  3,339.    Elapsed: 0:29:47.\n",
            "  Batch 2,720  of  3,339.    Elapsed: 0:30:14.\n",
            "  Batch 2,760  of  3,339.    Elapsed: 0:30:40.\n",
            "  Batch 2,800  of  3,339.    Elapsed: 0:31:07.\n",
            "  Batch 2,840  of  3,339.    Elapsed: 0:31:34.\n",
            "  Batch 2,880  of  3,339.    Elapsed: 0:32:00.\n",
            "  Batch 2,920  of  3,339.    Elapsed: 0:32:27.\n",
            "  Batch 2,960  of  3,339.    Elapsed: 0:32:53.\n",
            "  Batch 3,000  of  3,339.    Elapsed: 0:33:20.\n",
            "  Batch 3,040  of  3,339.    Elapsed: 0:33:47.\n",
            "  Batch 3,080  of  3,339.    Elapsed: 0:34:14.\n",
            "  Batch 3,120  of  3,339.    Elapsed: 0:34:40.\n",
            "  Batch 3,160  of  3,339.    Elapsed: 0:35:07.\n",
            "  Batch 3,200  of  3,339.    Elapsed: 0:35:34.\n",
            "  Batch 3,240  of  3,339.    Elapsed: 0:36:00.\n",
            "  Batch 3,280  of  3,339.    Elapsed: 0:36:27.\n",
            "  Batch 3,320  of  3,339.    Elapsed: 0:36:54.\n",
            "\n",
            "  Average training loss: 0.14\n",
            "  Training epcoh took: 0:37:06\n",
            "\n",
            "Running Validation...\n",
            "  Accuracy: 0.97\n",
            "  Validation Loss: 0.18\n",
            "  Validation took: 0:02:00\n",
            "\n",
            "======== Epoch 3 / 3 ========\n",
            "Training...\n",
            "  Batch    40  of  3,339.    Elapsed: 0:00:27.\n",
            "  Batch    80  of  3,339.    Elapsed: 0:00:53.\n",
            "  Batch   120  of  3,339.    Elapsed: 0:01:20.\n",
            "  Batch   160  of  3,339.    Elapsed: 0:01:47.\n",
            "  Batch   200  of  3,339.    Elapsed: 0:02:14.\n",
            "  Batch   240  of  3,339.    Elapsed: 0:02:41.\n",
            "  Batch   280  of  3,339.    Elapsed: 0:03:07.\n",
            "  Batch   320  of  3,339.    Elapsed: 0:03:34.\n",
            "  Batch   360  of  3,339.    Elapsed: 0:04:01.\n",
            "  Batch   400  of  3,339.    Elapsed: 0:04:27.\n",
            "  Batch   440  of  3,339.    Elapsed: 0:04:54.\n",
            "  Batch   480  of  3,339.    Elapsed: 0:05:21.\n",
            "  Batch   520  of  3,339.    Elapsed: 0:05:48.\n",
            "  Batch   560  of  3,339.    Elapsed: 0:06:14.\n",
            "  Batch   600  of  3,339.    Elapsed: 0:06:41.\n",
            "  Batch   640  of  3,339.    Elapsed: 0:07:08.\n",
            "  Batch   680  of  3,339.    Elapsed: 0:07:35.\n",
            "  Batch   720  of  3,339.    Elapsed: 0:08:01.\n",
            "  Batch   760  of  3,339.    Elapsed: 0:08:28.\n",
            "  Batch   800  of  3,339.    Elapsed: 0:08:55.\n",
            "  Batch   840  of  3,339.    Elapsed: 0:09:22.\n",
            "  Batch   880  of  3,339.    Elapsed: 0:09:48.\n",
            "  Batch   920  of  3,339.    Elapsed: 0:10:15.\n",
            "  Batch   960  of  3,339.    Elapsed: 0:10:42.\n",
            "  Batch 1,000  of  3,339.    Elapsed: 0:11:09.\n",
            "  Batch 1,040  of  3,339.    Elapsed: 0:11:35.\n",
            "  Batch 1,080  of  3,339.    Elapsed: 0:12:02.\n",
            "  Batch 1,120  of  3,339.    Elapsed: 0:12:29.\n",
            "  Batch 1,160  of  3,339.    Elapsed: 0:12:56.\n",
            "  Batch 1,200  of  3,339.    Elapsed: 0:13:22.\n",
            "  Batch 1,240  of  3,339.    Elapsed: 0:13:49.\n",
            "  Batch 1,280  of  3,339.    Elapsed: 0:14:16.\n",
            "  Batch 1,320  of  3,339.    Elapsed: 0:14:43.\n",
            "  Batch 1,360  of  3,339.    Elapsed: 0:15:09.\n",
            "  Batch 1,400  of  3,339.    Elapsed: 0:15:36.\n",
            "  Batch 1,440  of  3,339.    Elapsed: 0:16:03.\n",
            "  Batch 1,480  of  3,339.    Elapsed: 0:16:30.\n",
            "  Batch 1,520  of  3,339.    Elapsed: 0:16:56.\n",
            "  Batch 1,560  of  3,339.    Elapsed: 0:17:23.\n",
            "  Batch 1,600  of  3,339.    Elapsed: 0:17:50.\n",
            "  Batch 1,640  of  3,339.    Elapsed: 0:18:17.\n",
            "  Batch 1,680  of  3,339.    Elapsed: 0:18:44.\n",
            "  Batch 1,720  of  3,339.    Elapsed: 0:19:10.\n",
            "  Batch 1,760  of  3,339.    Elapsed: 0:19:37.\n",
            "  Batch 1,800  of  3,339.    Elapsed: 0:20:04.\n",
            "  Batch 1,840  of  3,339.    Elapsed: 0:20:31.\n",
            "  Batch 1,880  of  3,339.    Elapsed: 0:20:57.\n",
            "  Batch 1,920  of  3,339.    Elapsed: 0:21:24.\n",
            "  Batch 1,960  of  3,339.    Elapsed: 0:21:51.\n",
            "  Batch 2,000  of  3,339.    Elapsed: 0:22:18.\n",
            "  Batch 2,040  of  3,339.    Elapsed: 0:22:44.\n",
            "  Batch 2,080  of  3,339.    Elapsed: 0:23:11.\n",
            "  Batch 2,120  of  3,339.    Elapsed: 0:23:38.\n",
            "  Batch 2,160  of  3,339.    Elapsed: 0:24:05.\n",
            "  Batch 2,200  of  3,339.    Elapsed: 0:24:31.\n",
            "  Batch 2,240  of  3,339.    Elapsed: 0:24:58.\n",
            "  Batch 2,280  of  3,339.    Elapsed: 0:25:25.\n",
            "  Batch 2,320  of  3,339.    Elapsed: 0:25:52.\n",
            "  Batch 2,360  of  3,339.    Elapsed: 0:26:18.\n",
            "  Batch 2,400  of  3,339.    Elapsed: 0:26:45.\n",
            "  Batch 2,440  of  3,339.    Elapsed: 0:27:12.\n",
            "  Batch 2,480  of  3,339.    Elapsed: 0:27:39.\n",
            "  Batch 2,520  of  3,339.    Elapsed: 0:28:06.\n",
            "  Batch 2,560  of  3,339.    Elapsed: 0:28:32.\n",
            "  Batch 2,600  of  3,339.    Elapsed: 0:28:59.\n",
            "  Batch 2,640  of  3,339.    Elapsed: 0:29:25.\n",
            "  Batch 2,680  of  3,339.    Elapsed: 0:29:52.\n",
            "  Batch 2,720  of  3,339.    Elapsed: 0:30:19.\n",
            "  Batch 2,760  of  3,339.    Elapsed: 0:30:46.\n",
            "  Batch 2,800  of  3,339.    Elapsed: 0:31:13.\n",
            "  Batch 2,840  of  3,339.    Elapsed: 0:31:39.\n",
            "  Batch 2,880  of  3,339.    Elapsed: 0:32:06.\n",
            "  Batch 2,920  of  3,339.    Elapsed: 0:32:33.\n",
            "  Batch 2,960  of  3,339.    Elapsed: 0:32:59.\n",
            "  Batch 3,000  of  3,339.    Elapsed: 0:33:26.\n",
            "  Batch 3,040  of  3,339.    Elapsed: 0:33:53.\n",
            "  Batch 3,080  of  3,339.    Elapsed: 0:34:20.\n",
            "  Batch 3,120  of  3,339.    Elapsed: 0:34:47.\n",
            "  Batch 3,160  of  3,339.    Elapsed: 0:35:13.\n",
            "  Batch 3,200  of  3,339.    Elapsed: 0:35:40.\n",
            "  Batch 3,240  of  3,339.    Elapsed: 0:36:07.\n",
            "  Batch 3,280  of  3,339.    Elapsed: 0:36:34.\n",
            "  Batch 3,320  of  3,339.    Elapsed: 0:37:00.\n",
            "\n",
            "  Average training loss: 0.05\n",
            "  Training epcoh took: 0:37:13\n",
            "\n",
            "Running Validation...\n",
            "  Accuracy: 0.96\n",
            "  Validation Loss: 0.22\n",
            "  Validation took: 0:02:01\n",
            "\n",
            "Training complete!\n",
            "Total training took 1:57:33 (h:mm:ss)\n"
          ],
          "name": "stdout"
        }
      ]
    },
    {
      "cell_type": "markdown",
      "metadata": {
        "id": "tNqiYmxfmNXS"
      },
      "source": [
        "\n",
        "#Тест"
      ]
    },
    {
      "cell_type": "code",
      "metadata": {
        "colab": {
          "background_save": true
        },
        "id": "3ahncRSMlt74",
        "outputId": "67162c56-2ec9-4380-c8ea-79e077c3e653"
      },
      "source": [
        "import pandas as pd\n",
        "\n",
        "# Tokenize all of the sentences and map the tokens to thier word IDs.\n",
        "input_ids = []\n",
        "attention_masks = []\n",
        "\n",
        "# For every sentence...\n",
        "for sent in test_texts:\n",
        "    # `encode_plus` will:\n",
        "    #   (1) Tokenize the sentence.\n",
        "    #   (2) Prepend the `[CLS]` token to the start.\n",
        "    #   (3) Append the `[SEP]` token to the end.\n",
        "    #   (4) Map tokens to their IDs.\n",
        "    #   (5) Pad or truncate the sentence to `max_length`\n",
        "    #   (6) Create attention masks for [PAD] tokens.\n",
        "    sent = '[CLS] '+ sent[0] + ' [SEP] ' +sent[1] #+ ' [SEP]'\n",
        "\n",
        "    encoded_dict = tokenizer.encode_plus(\n",
        "                        sent,                      # Sentence to encode.\n",
        "                        add_special_tokens = False, # Add '[CLS]' and '[SEP]'\n",
        "                        max_length = 512,           # Pad & truncate all sentences.\n",
        "                        truncation = True,\n",
        "                        pad_to_max_length = True,\n",
        "                        return_attention_mask = True,   # Construct attn. masks.\n",
        "                        return_tensors = 'pt',     # Return pytorch tensors.\n",
        "                   )\n",
        "    \n",
        "    # Add the encoded sentence to the list.    \n",
        "    input_ids.append(encoded_dict['input_ids'])\n",
        "    \n",
        "    # And its attention mask (simply differentiates padding from non-padding).\n",
        "    attention_masks.append(encoded_dict['attention_mask'])\n",
        "\n",
        "# Convert the lists into tensors.\n",
        "input_ids = torch.cat(input_ids, dim=0)\n",
        "attention_masks = torch.cat(attention_masks, dim=0)\n",
        "#labels = torch.tensor(val_labels)\n",
        "\n",
        "# Set the batch size.  \n",
        "batch_size = 8\n",
        "\n",
        "# Create the DataLoader.\n",
        "prediction_data = TensorDataset(input_ids, attention_masks)\n",
        "prediction_sampler = SequentialSampler(prediction_data)\n",
        "prediction_dataloader = DataLoader(prediction_data, sampler=prediction_sampler, batch_size=batch_size)"
      ],
      "execution_count": null,
      "outputs": [
        {
          "output_type": "stream",
          "text": [
            "/usr/local/lib/python3.7/dist-packages/transformers/tokenization_utils_base.py:1944: FutureWarning: The `pad_to_max_length` argument is deprecated and will be removed in a future version, use `padding=True` or `padding='longest'` to pad to the longest sequence in the batch, or use `padding='max_length'` to pad to a max length. In this case, you can give a specific length with `max_length` (e.g. `max_length=45`) or leave max_length to None to pad to the maximal input size of the model (e.g. 512 for Bert).\n",
            "  FutureWarning,\n"
          ],
          "name": "stderr"
        }
      ]
    },
    {
      "cell_type": "code",
      "metadata": {
        "colab": {
          "background_save": true
        },
        "id": "h383C_HpmUgJ",
        "outputId": "d18cb8c5-7aa3-4e99-a3d1-d42a2104d763"
      },
      "source": [
        "# Prediction on test set\n",
        "\n",
        "print('Predicting labels for {:,} test sentences...'.format(len(input_ids)))\n",
        "\n",
        "\n",
        "# Put model in evaluation mode\n",
        "model.eval()\n",
        "\n",
        "# Tracking variables \n",
        "predictions, true_labels = [], []\n",
        "\n",
        "# Predict \n",
        "for batch in prediction_dataloader:\n",
        "  # Add batch to GPU\n",
        "  batch = tuple(t.to(device) for t in batch)\n",
        "  \n",
        "  # Unpack the inputs from our dataloader\n",
        "  b_input_ids, b_input_mask = batch\n",
        "  \n",
        "  # Telling the model not to compute or store gradients, saving memory and \n",
        "  # speeding up prediction\n",
        "  with torch.no_grad():\n",
        "      # Forward pass, calculate logit predictions\n",
        "      outputs = model(b_input_ids, token_type_ids=None, \n",
        "                      attention_mask=b_input_mask)\n",
        "\n",
        "  logits = outputs[0]\n",
        "\n",
        "  # Move logits and labels to CPU\n",
        "  logits = logits.detach().cpu().numpy()\n",
        "  #label_ids = b_labels.to('cpu').numpy()\n",
        "  \n",
        "  # Store predictions and true labels\n",
        "  predictions.append(logits)\n",
        "  #true_labels.append(label_ids)\n",
        "\n",
        "print('    DONE.')"
      ],
      "execution_count": null,
      "outputs": [
        {
          "output_type": "stream",
          "text": [
            "Predicting labels for 16,973 test sentences...\n",
            "    DONE.\n"
          ],
          "name": "stdout"
        }
      ]
    },
    {
      "cell_type": "code",
      "metadata": {
        "colab": {
          "background_save": true
        },
        "id": "AgbntMhR6N11"
      },
      "source": [
        "flat_predictions = [item for sublist in predictions for item in sublist]\n",
        "flat_predictions = np.argmax(flat_predictions, axis=1).flatten()"
      ],
      "execution_count": null,
      "outputs": []
    },
    {
      "cell_type": "code",
      "metadata": {
        "colab": {
          "background_save": true
        },
        "id": "jkKITgxAmdpr"
      },
      "source": [
        "import pickle\n",
        "\n",
        "with open('/content/drive/MyDrive/rusum/predictions4.pickle', 'wb') as f:\n",
        "      pickle.dump(flat_predictions, f)"
      ],
      "execution_count": null,
      "outputs": []
    },
    {
      "cell_type": "code",
      "metadata": {
        "colab": {
          "background_save": true
        },
        "id": "F93TWzktmod2",
        "outputId": "659b6e82-00a6-4169-c648-d54e8cf9447c"
      },
      "source": [
        "print(flat_predictions[:10])"
      ],
      "execution_count": null,
      "outputs": [
        {
          "output_type": "stream",
          "text": [
            "[0 0 0 1 0 1 0 1 0 0]\n"
          ],
          "name": "stdout"
        }
      ]
    },
    {
      "cell_type": "code",
      "metadata": {
        "colab": {
          "background_save": true
        },
        "id": "rMUtEd5NnoPR"
      },
      "source": [
        "#write_markup_tsv(predictions, \"answer.txt\", res_key=\"quality\")\n",
        "#!rm -f submission_ft.zip\n",
        "#!zip submission_ft.zip answer.txt"
      ],
      "execution_count": null,
      "outputs": []
    }
  ]
}